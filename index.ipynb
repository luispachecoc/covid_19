{
 "cells": [
  {
   "cell_type": "markdown",
   "metadata": {
    "id": "o86RSkwNQiK3"
   },
   "source": [
    "# Analytics on GeodataFrames - COVID 19 CASE\n",
    "\n",
    "In the selected case, we will focus on positive cases, centering on the population most vulnerable to COVID-19, which includes middle-aged adults (40-59 years) and older adults (60+ years).\n",
    "\n",
    "First, we read the data stored in Google Drive.\n",
    "\n",
    "\n",
    "\n",
    "\n",
    "\n",
    "\n"
   ]
  },
  {
   "cell_type": "code",
   "execution_count": 3,
   "metadata": {
    "colab": {
     "base_uri": "https://localhost:8080/"
    },
    "executionInfo": {
     "elapsed": 9833,
     "status": "ok",
     "timestamp": 1730206146898,
     "user": {
      "displayName": "LUIS ALBERTO PACHECO CONCHA",
      "userId": "16921349855389687986"
     },
     "user_tz": 300
    },
    "id": "rTGN1fPETr30",
    "outputId": "5671c396-215d-4c7d-c6a9-5e17194514a3"
   },
   "outputs": [
    {
     "name": "stdout",
     "output_type": "stream",
     "text": [
      "<class 'pandas.core.frame.DataFrame'>\n",
      "RangeIndex: 4585360 entries, 0 to 4585359\n",
      "Data columns (total 10 columns):\n",
      " #   Column           Dtype  \n",
      "---  ------           -----  \n",
      " 0   FECHA_CORTE      int64  \n",
      " 1   DEPARTAMENTO     object \n",
      " 2   PROVINCIA        object \n",
      " 3   DISTRITO         object \n",
      " 4   METODODX         object \n",
      " 5   EDAD             float64\n",
      " 6   SEXO             object \n",
      " 7   FECHA_RESULTADO  float64\n",
      " 8   UBIGEO           float64\n",
      " 9   id_persona       float64\n",
      "dtypes: float64(4), int64(1), object(5)\n",
      "memory usage: 349.8+ MB\n"
     ]
    }
   ],
   "source": [
    "import pandas as pd\n",
    "\n",
    "# Lee el archivo especificando el delimitador como \";\"\n",
    "covid19 = pd.read_csv(\"positivos_covid.csv\", delimiter=';')\n",
    "\n",
    "covid19.info()\n",
    "\n"
   ]
  },
  {
   "cell_type": "code",
   "execution_count": 5,
   "metadata": {
    "colab": {
     "base_uri": "https://localhost:8080/",
     "height": 206
    },
    "executionInfo": {
     "elapsed": 15,
     "status": "ok",
     "timestamp": 1730206146898,
     "user": {
      "displayName": "LUIS ALBERTO PACHECO CONCHA",
      "userId": "16921349855389687986"
     },
     "user_tz": 300
    },
    "id": "_s4ELUuhRZcl",
    "outputId": "9e09b4c9-3061-42ab-ac49-b0aa32e4e1e3"
   },
   "outputs": [
    {
     "data": {
      "text/html": [
       "<div>\n",
       "<style scoped>\n",
       "    .dataframe tbody tr th:only-of-type {\n",
       "        vertical-align: middle;\n",
       "    }\n",
       "\n",
       "    .dataframe tbody tr th {\n",
       "        vertical-align: top;\n",
       "    }\n",
       "\n",
       "    .dataframe thead th {\n",
       "        text-align: right;\n",
       "    }\n",
       "</style>\n",
       "<table border=\"1\" class=\"dataframe\">\n",
       "  <thead>\n",
       "    <tr style=\"text-align: right;\">\n",
       "      <th></th>\n",
       "      <th>FECHA_CORTE</th>\n",
       "      <th>DEPARTAMENTO</th>\n",
       "      <th>PROVINCIA</th>\n",
       "      <th>DISTRITO</th>\n",
       "      <th>METODODX</th>\n",
       "      <th>EDAD</th>\n",
       "      <th>SEXO</th>\n",
       "      <th>FECHA_RESULTADO</th>\n",
       "      <th>UBIGEO</th>\n",
       "      <th>id_persona</th>\n",
       "    </tr>\n",
       "  </thead>\n",
       "  <tbody>\n",
       "    <tr>\n",
       "      <th>0</th>\n",
       "      <td>20241203</td>\n",
       "      <td>TUMBES</td>\n",
       "      <td>TUMBES</td>\n",
       "      <td>TUMBES</td>\n",
       "      <td>AG</td>\n",
       "      <td>46.0</td>\n",
       "      <td>FEMENINO</td>\n",
       "      <td>20221207.0</td>\n",
       "      <td>240101.0</td>\n",
       "      <td>203499.0</td>\n",
       "    </tr>\n",
       "    <tr>\n",
       "      <th>1</th>\n",
       "      <td>20241203</td>\n",
       "      <td>LIMA</td>\n",
       "      <td>LIMA</td>\n",
       "      <td>JESUS MARIA</td>\n",
       "      <td>AG</td>\n",
       "      <td>69.0</td>\n",
       "      <td>FEMENINO</td>\n",
       "      <td>20230822.0</td>\n",
       "      <td>150113.0</td>\n",
       "      <td>221397.0</td>\n",
       "    </tr>\n",
       "    <tr>\n",
       "      <th>2</th>\n",
       "      <td>20241203</td>\n",
       "      <td>SAN MARTIN</td>\n",
       "      <td>MOYOBAMBA</td>\n",
       "      <td>MOYOBAMBA</td>\n",
       "      <td>AG</td>\n",
       "      <td>55.0</td>\n",
       "      <td>FEMENINO</td>\n",
       "      <td>20240108.0</td>\n",
       "      <td>220101.0</td>\n",
       "      <td>295651.0</td>\n",
       "    </tr>\n",
       "    <tr>\n",
       "      <th>3</th>\n",
       "      <td>20241203</td>\n",
       "      <td>AREQUIPA</td>\n",
       "      <td>CAYLLOMA</td>\n",
       "      <td>COPORAQUE</td>\n",
       "      <td>AG</td>\n",
       "      <td>50.0</td>\n",
       "      <td>MASCULINO</td>\n",
       "      <td>20230824.0</td>\n",
       "      <td>40506.0</td>\n",
       "      <td>851625.0</td>\n",
       "    </tr>\n",
       "    <tr>\n",
       "      <th>4</th>\n",
       "      <td>20241203</td>\n",
       "      <td>LIMA</td>\n",
       "      <td>LIMA</td>\n",
       "      <td>JESUS MARIA</td>\n",
       "      <td>AG</td>\n",
       "      <td>58.0</td>\n",
       "      <td>MASCULINO</td>\n",
       "      <td>20221217.0</td>\n",
       "      <td>150113.0</td>\n",
       "      <td>287786.0</td>\n",
       "    </tr>\n",
       "  </tbody>\n",
       "</table>\n",
       "</div>"
      ],
      "text/plain": [
       "   FECHA_CORTE DEPARTAMENTO  PROVINCIA     DISTRITO METODODX  EDAD       SEXO  \\\n",
       "0     20241203       TUMBES     TUMBES       TUMBES       AG  46.0   FEMENINO   \n",
       "1     20241203         LIMA       LIMA  JESUS MARIA       AG  69.0   FEMENINO   \n",
       "2     20241203   SAN MARTIN  MOYOBAMBA    MOYOBAMBA       AG  55.0   FEMENINO   \n",
       "3     20241203     AREQUIPA   CAYLLOMA    COPORAQUE       AG  50.0  MASCULINO   \n",
       "4     20241203         LIMA       LIMA  JESUS MARIA       AG  58.0  MASCULINO   \n",
       "\n",
       "   FECHA_RESULTADO    UBIGEO  id_persona  \n",
       "0       20221207.0  240101.0    203499.0  \n",
       "1       20230822.0  150113.0    221397.0  \n",
       "2       20240108.0  220101.0    295651.0  \n",
       "3       20230824.0   40506.0    851625.0  \n",
       "4       20221217.0  150113.0    287786.0  "
      ]
     },
     "execution_count": 5,
     "metadata": {},
     "output_type": "execute_result"
    }
   ],
   "source": [
    "#check\n",
    "covid19.head()"
   ]
  },
  {
   "cell_type": "markdown",
   "metadata": {
    "id": "kti7gj1BdPyi"
   },
   "source": [
    "## We begin data cleaning"
   ]
  },
  {
   "cell_type": "code",
   "execution_count": 7,
   "metadata": {
    "colab": {
     "base_uri": "https://localhost:8080/",
     "height": 206
    },
    "executionInfo": {
     "elapsed": 457,
     "status": "ok",
     "timestamp": 1730206147343,
     "user": {
      "displayName": "LUIS ALBERTO PACHECO CONCHA",
      "userId": "16921349855389687986"
     },
     "user_tz": 300
    },
    "id": "JUX9hgibP7FJ",
    "outputId": "374f0d05-934e-44b9-dae3-2cd14fc32042"
   },
   "outputs": [
    {
     "data": {
      "text/html": [
       "<div>\n",
       "<style scoped>\n",
       "    .dataframe tbody tr th:only-of-type {\n",
       "        vertical-align: middle;\n",
       "    }\n",
       "\n",
       "    .dataframe tbody tr th {\n",
       "        vertical-align: top;\n",
       "    }\n",
       "\n",
       "    .dataframe thead th {\n",
       "        text-align: right;\n",
       "    }\n",
       "</style>\n",
       "<table border=\"1\" class=\"dataframe\">\n",
       "  <thead>\n",
       "    <tr style=\"text-align: right;\">\n",
       "      <th></th>\n",
       "      <th>DEPARTAMENTO</th>\n",
       "      <th>PROVINCIA</th>\n",
       "      <th>DISTRITO</th>\n",
       "      <th>EDAD</th>\n",
       "      <th>SEXO</th>\n",
       "      <th>FECHA_RESULTADO</th>\n",
       "      <th>UBIGEO</th>\n",
       "    </tr>\n",
       "  </thead>\n",
       "  <tbody>\n",
       "    <tr>\n",
       "      <th>0</th>\n",
       "      <td>TUMBES</td>\n",
       "      <td>TUMBES</td>\n",
       "      <td>TUMBES</td>\n",
       "      <td>46.0</td>\n",
       "      <td>FEMENINO</td>\n",
       "      <td>20221207.0</td>\n",
       "      <td>240101.0</td>\n",
       "    </tr>\n",
       "    <tr>\n",
       "      <th>1</th>\n",
       "      <td>LIMA</td>\n",
       "      <td>LIMA</td>\n",
       "      <td>JESUS MARIA</td>\n",
       "      <td>69.0</td>\n",
       "      <td>FEMENINO</td>\n",
       "      <td>20230822.0</td>\n",
       "      <td>150113.0</td>\n",
       "    </tr>\n",
       "    <tr>\n",
       "      <th>2</th>\n",
       "      <td>SAN MARTIN</td>\n",
       "      <td>MOYOBAMBA</td>\n",
       "      <td>MOYOBAMBA</td>\n",
       "      <td>55.0</td>\n",
       "      <td>FEMENINO</td>\n",
       "      <td>20240108.0</td>\n",
       "      <td>220101.0</td>\n",
       "    </tr>\n",
       "    <tr>\n",
       "      <th>3</th>\n",
       "      <td>AREQUIPA</td>\n",
       "      <td>CAYLLOMA</td>\n",
       "      <td>COPORAQUE</td>\n",
       "      <td>50.0</td>\n",
       "      <td>MASCULINO</td>\n",
       "      <td>20230824.0</td>\n",
       "      <td>40506.0</td>\n",
       "    </tr>\n",
       "    <tr>\n",
       "      <th>4</th>\n",
       "      <td>LIMA</td>\n",
       "      <td>LIMA</td>\n",
       "      <td>JESUS MARIA</td>\n",
       "      <td>58.0</td>\n",
       "      <td>MASCULINO</td>\n",
       "      <td>20221217.0</td>\n",
       "      <td>150113.0</td>\n",
       "    </tr>\n",
       "  </tbody>\n",
       "</table>\n",
       "</div>"
      ],
      "text/plain": [
       "  DEPARTAMENTO  PROVINCIA     DISTRITO  EDAD       SEXO  FECHA_RESULTADO  \\\n",
       "0       TUMBES     TUMBES       TUMBES  46.0   FEMENINO       20221207.0   \n",
       "1         LIMA       LIMA  JESUS MARIA  69.0   FEMENINO       20230822.0   \n",
       "2   SAN MARTIN  MOYOBAMBA    MOYOBAMBA  55.0   FEMENINO       20240108.0   \n",
       "3     AREQUIPA   CAYLLOMA    COPORAQUE  50.0  MASCULINO       20230824.0   \n",
       "4         LIMA       LIMA  JESUS MARIA  58.0  MASCULINO       20221217.0   \n",
       "\n",
       "     UBIGEO  \n",
       "0  240101.0  \n",
       "1  150113.0  \n",
       "2  220101.0  \n",
       "3   40506.0  \n",
       "4  150113.0  "
      ]
     },
     "execution_count": 7,
     "metadata": {},
     "output_type": "execute_result"
    }
   ],
   "source": [
    "covid19 = covid19.drop(columns=['FECHA_CORTE', 'METODODX', 'id_persona'])\n",
    "\n",
    "#check\n",
    "covid19.head()\n"
   ]
  },
  {
   "cell_type": "code",
   "execution_count": 8,
   "metadata": {
    "colab": {
     "base_uri": "https://localhost:8080/",
     "height": 428
    },
    "executionInfo": {
     "elapsed": 6941,
     "status": "ok",
     "timestamp": 1730206154272,
     "user": {
      "displayName": "LUIS ALBERTO PACHECO CONCHA",
      "userId": "16921349855389687986"
     },
     "user_tz": 300
    },
    "id": "km9hXVy4U71g",
    "outputId": "b213ae6e-b251-4ef3-810e-70352a8f98de"
   },
   "outputs": [
    {
     "data": {
      "text/html": [
       "<div>\n",
       "<style scoped>\n",
       "    .dataframe tbody tr th:only-of-type {\n",
       "        vertical-align: middle;\n",
       "    }\n",
       "\n",
       "    .dataframe tbody tr th {\n",
       "        vertical-align: top;\n",
       "    }\n",
       "\n",
       "    .dataframe thead th {\n",
       "        text-align: right;\n",
       "    }\n",
       "</style>\n",
       "<table border=\"1\" class=\"dataframe\">\n",
       "  <thead>\n",
       "    <tr style=\"text-align: right;\">\n",
       "      <th></th>\n",
       "      <th>DEPARTAMENTO</th>\n",
       "      <th>PROVINCIA</th>\n",
       "      <th>DISTRITO</th>\n",
       "      <th>EDAD</th>\n",
       "      <th>SEXO</th>\n",
       "      <th>FECHA_RESULTADO</th>\n",
       "      <th>UBIGEO</th>\n",
       "    </tr>\n",
       "  </thead>\n",
       "  <tbody>\n",
       "    <tr>\n",
       "      <th>0</th>\n",
       "      <td>TUMBES</td>\n",
       "      <td>TUMBES</td>\n",
       "      <td>TUMBES</td>\n",
       "      <td>46</td>\n",
       "      <td>FEMENINO</td>\n",
       "      <td>2022</td>\n",
       "      <td>240101.0</td>\n",
       "    </tr>\n",
       "    <tr>\n",
       "      <th>1</th>\n",
       "      <td>LIMA</td>\n",
       "      <td>LIMA</td>\n",
       "      <td>JESUS MARIA</td>\n",
       "      <td>69</td>\n",
       "      <td>FEMENINO</td>\n",
       "      <td>2023</td>\n",
       "      <td>150113.0</td>\n",
       "    </tr>\n",
       "    <tr>\n",
       "      <th>2</th>\n",
       "      <td>SAN MARTIN</td>\n",
       "      <td>MOYOBAMBA</td>\n",
       "      <td>MOYOBAMBA</td>\n",
       "      <td>55</td>\n",
       "      <td>FEMENINO</td>\n",
       "      <td>2024</td>\n",
       "      <td>220101.0</td>\n",
       "    </tr>\n",
       "    <tr>\n",
       "      <th>3</th>\n",
       "      <td>AREQUIPA</td>\n",
       "      <td>CAYLLOMA</td>\n",
       "      <td>COPORAQUE</td>\n",
       "      <td>50</td>\n",
       "      <td>MASCULINO</td>\n",
       "      <td>2023</td>\n",
       "      <td>40506.0</td>\n",
       "    </tr>\n",
       "    <tr>\n",
       "      <th>4</th>\n",
       "      <td>LIMA</td>\n",
       "      <td>LIMA</td>\n",
       "      <td>JESUS MARIA</td>\n",
       "      <td>58</td>\n",
       "      <td>MASCULINO</td>\n",
       "      <td>2022</td>\n",
       "      <td>150113.0</td>\n",
       "    </tr>\n",
       "  </tbody>\n",
       "</table>\n",
       "</div>"
      ],
      "text/plain": [
       "  DEPARTAMENTO  PROVINCIA     DISTRITO  EDAD       SEXO FECHA_RESULTADO  \\\n",
       "0       TUMBES     TUMBES       TUMBES    46   FEMENINO            2022   \n",
       "1         LIMA       LIMA  JESUS MARIA    69   FEMENINO            2023   \n",
       "2   SAN MARTIN  MOYOBAMBA    MOYOBAMBA    55   FEMENINO            2024   \n",
       "3     AREQUIPA   CAYLLOMA    COPORAQUE    50  MASCULINO            2023   \n",
       "4         LIMA       LIMA  JESUS MARIA    58  MASCULINO            2022   \n",
       "\n",
       "     UBIGEO  \n",
       "0  240101.0  \n",
       "1  150113.0  \n",
       "2  220101.0  \n",
       "3   40506.0  \n",
       "4  150113.0  "
      ]
     },
     "execution_count": 8,
     "metadata": {},
     "output_type": "execute_result"
    }
   ],
   "source": [
    "# Extraemos solo el año de la columna FECHA_RESULTADO en el DataFrame covid19\n",
    "covid19['FECHA_RESULTADO'] = covid19['FECHA_RESULTADO'].astype(str).str[:4]\n",
    "\n",
    "# Eliminar filas con NaN en EDAD\n",
    "covid19 = covid19.dropna(subset=['EDAD'])\n",
    "covid19['EDAD'] = covid19['EDAD'].astype(int)\n",
    "\n",
    "\n",
    "# Convertimos la columna EDAD a enteros para remover el \".0\"\n",
    "covid19['EDAD'] = covid19['EDAD'].astype(int)\n",
    "\n",
    "#check\n",
    "covid19.head()\n",
    "\n"
   ]
  },
  {
   "cell_type": "code",
   "execution_count": 9,
   "metadata": {
    "colab": {
     "base_uri": "https://localhost:8080/",
     "height": 335
    },
    "executionInfo": {
     "elapsed": 544,
     "status": "ok",
     "timestamp": 1730206154802,
     "user": {
      "displayName": "LUIS ALBERTO PACHECO CONCHA",
      "userId": "16921349855389687986"
     },
     "user_tz": 300
    },
    "id": "5WfejC9yQhcQ",
    "outputId": "dd3a5a10-cbed-422d-8e93-b8a71f81ed61"
   },
   "outputs": [
    {
     "data": {
      "text/plain": [
       "FECHA_RESULTADO\n",
       "2022    2132009\n",
       "2021    1307581\n",
       "2020    1022565\n",
       "2023      93361\n",
       "2024      27074\n",
       "nan        2023\n",
       "1899        394\n",
       "Name: count, dtype: int64"
      ]
     },
     "execution_count": 9,
     "metadata": {},
     "output_type": "execute_result"
    }
   ],
   "source": [
    "# years in data\n",
    "covid19.FECHA_RESULTADO.value_counts()"
   ]
  },
  {
   "cell_type": "code",
   "execution_count": 10,
   "metadata": {
    "id": "-DEZnncXWo3o"
   },
   "outputs": [],
   "source": [
    "# Primero eliminamos los valores NaN de la columna FECHA_RESULTADO y luego filtramos los valores no deseados como '1899'\n",
    "covid19 = covid19[~covid19['FECHA_RESULTADO'].isin(['nan'])]\n",
    "\n",
    "# Convertimos FECHA_RESULTADO a string por seguridad y filtramos los valores no deseados\n",
    "covid19 = covid19[~covid19['FECHA_RESULTADO'].isin(['1899'])]"
   ]
  },
  {
   "cell_type": "code",
   "execution_count": 11,
   "metadata": {
    "colab": {
     "base_uri": "https://localhost:8080/",
     "height": 272
    },
    "executionInfo": {
     "elapsed": 30,
     "status": "ok",
     "timestamp": 1730206156257,
     "user": {
      "displayName": "LUIS ALBERTO PACHECO CONCHA",
      "userId": "16921349855389687986"
     },
     "user_tz": 300
    },
    "id": "CVtPWBUsWEZZ",
    "outputId": "8ba08a53-e365-4199-b22a-b29ab2e02c50"
   },
   "outputs": [
    {
     "data": {
      "text/plain": [
       "FECHA_RESULTADO\n",
       "2022    2132009\n",
       "2021    1307581\n",
       "2020    1022565\n",
       "2023      93361\n",
       "2024      27074\n",
       "Name: count, dtype: int64"
      ]
     },
     "execution_count": 11,
     "metadata": {},
     "output_type": "execute_result"
    }
   ],
   "source": [
    "# Verificamos que tenemos la periodización correcta\n",
    "covid19.FECHA_RESULTADO.value_counts()"
   ]
  },
  {
   "cell_type": "code",
   "execution_count": 12,
   "metadata": {
    "colab": {
     "base_uri": "https://localhost:8080/"
    },
    "executionInfo": {
     "elapsed": 27,
     "status": "ok",
     "timestamp": 1730206156258,
     "user": {
      "displayName": "LUIS ALBERTO PACHECO CONCHA",
      "userId": "16921349855389687986"
     },
     "user_tz": 300
    },
    "id": "sr0DoDlxWTQ3",
    "outputId": "2a5070bc-3611-496a-b835-ffbd1ecd0b87"
   },
   "outputs": [
    {
     "data": {
      "text/plain": [
       "(0, 125)"
      ]
     },
     "execution_count": 12,
     "metadata": {},
     "output_type": "execute_result"
    }
   ],
   "source": [
    "# Mostramos los valores mínimo y máximo en la columna 'EDAD' del DataFrame, para verificar que está todo ok\n",
    "edad_min = covid19['EDAD'].min()\n",
    "edad_max = covid19['EDAD'].max()\n",
    "\n",
    "edad_min, edad_max\n"
   ]
  },
  {
   "cell_type": "code",
   "execution_count": 13,
   "metadata": {
    "colab": {
     "base_uri": "https://localhost:8080/",
     "height": 206
    },
    "executionInfo": {
     "elapsed": 23,
     "status": "ok",
     "timestamp": 1730206156258,
     "user": {
      "displayName": "LUIS ALBERTO PACHECO CONCHA",
      "userId": "16921349855389687986"
     },
     "user_tz": 300
    },
    "id": "64rDtNOCkKvE",
    "outputId": "a72f8ba6-b129-40f3-d100-14b6ecd1a17b"
   },
   "outputs": [
    {
     "data": {
      "text/html": [
       "<div>\n",
       "<style scoped>\n",
       "    .dataframe tbody tr th:only-of-type {\n",
       "        vertical-align: middle;\n",
       "    }\n",
       "\n",
       "    .dataframe tbody tr th {\n",
       "        vertical-align: top;\n",
       "    }\n",
       "\n",
       "    .dataframe thead th {\n",
       "        text-align: right;\n",
       "    }\n",
       "</style>\n",
       "<table border=\"1\" class=\"dataframe\">\n",
       "  <thead>\n",
       "    <tr style=\"text-align: right;\">\n",
       "      <th></th>\n",
       "      <th>DEPARTAMENTO</th>\n",
       "      <th>PROVINCIA</th>\n",
       "      <th>DISTRITO</th>\n",
       "      <th>EDAD</th>\n",
       "      <th>SEXO</th>\n",
       "      <th>FECHA_RESULTADO</th>\n",
       "      <th>UBIGEO</th>\n",
       "      <th>Grupo_Edad</th>\n",
       "    </tr>\n",
       "  </thead>\n",
       "  <tbody>\n",
       "    <tr>\n",
       "      <th>0</th>\n",
       "      <td>TUMBES</td>\n",
       "      <td>TUMBES</td>\n",
       "      <td>TUMBES</td>\n",
       "      <td>46</td>\n",
       "      <td>FEMENINO</td>\n",
       "      <td>2022</td>\n",
       "      <td>240101.0</td>\n",
       "      <td>Adultos de mediana edad (40-59 años)</td>\n",
       "    </tr>\n",
       "    <tr>\n",
       "      <th>1</th>\n",
       "      <td>LIMA</td>\n",
       "      <td>LIMA</td>\n",
       "      <td>JESUS MARIA</td>\n",
       "      <td>69</td>\n",
       "      <td>FEMENINO</td>\n",
       "      <td>2023</td>\n",
       "      <td>150113.0</td>\n",
       "      <td>Personas mayores (60+ años)</td>\n",
       "    </tr>\n",
       "    <tr>\n",
       "      <th>2</th>\n",
       "      <td>SAN MARTIN</td>\n",
       "      <td>MOYOBAMBA</td>\n",
       "      <td>MOYOBAMBA</td>\n",
       "      <td>55</td>\n",
       "      <td>FEMENINO</td>\n",
       "      <td>2024</td>\n",
       "      <td>220101.0</td>\n",
       "      <td>Adultos de mediana edad (40-59 años)</td>\n",
       "    </tr>\n",
       "    <tr>\n",
       "      <th>3</th>\n",
       "      <td>AREQUIPA</td>\n",
       "      <td>CAYLLOMA</td>\n",
       "      <td>COPORAQUE</td>\n",
       "      <td>50</td>\n",
       "      <td>MASCULINO</td>\n",
       "      <td>2023</td>\n",
       "      <td>40506.0</td>\n",
       "      <td>Adultos de mediana edad (40-59 años)</td>\n",
       "    </tr>\n",
       "    <tr>\n",
       "      <th>4</th>\n",
       "      <td>LIMA</td>\n",
       "      <td>LIMA</td>\n",
       "      <td>JESUS MARIA</td>\n",
       "      <td>58</td>\n",
       "      <td>MASCULINO</td>\n",
       "      <td>2022</td>\n",
       "      <td>150113.0</td>\n",
       "      <td>Adultos de mediana edad (40-59 años)</td>\n",
       "    </tr>\n",
       "  </tbody>\n",
       "</table>\n",
       "</div>"
      ],
      "text/plain": [
       "  DEPARTAMENTO  PROVINCIA     DISTRITO  EDAD       SEXO FECHA_RESULTADO  \\\n",
       "0       TUMBES     TUMBES       TUMBES    46   FEMENINO            2022   \n",
       "1         LIMA       LIMA  JESUS MARIA    69   FEMENINO            2023   \n",
       "2   SAN MARTIN  MOYOBAMBA    MOYOBAMBA    55   FEMENINO            2024   \n",
       "3     AREQUIPA   CAYLLOMA    COPORAQUE    50  MASCULINO            2023   \n",
       "4         LIMA       LIMA  JESUS MARIA    58  MASCULINO            2022   \n",
       "\n",
       "     UBIGEO                            Grupo_Edad  \n",
       "0  240101.0  Adultos de mediana edad (40-59 años)  \n",
       "1  150113.0           Personas mayores (60+ años)  \n",
       "2  220101.0  Adultos de mediana edad (40-59 años)  \n",
       "3   40506.0  Adultos de mediana edad (40-59 años)  \n",
       "4  150113.0  Adultos de mediana edad (40-59 años)  "
      ]
     },
     "execution_count": 13,
     "metadata": {},
     "output_type": "execute_result"
    }
   ],
   "source": [
    "# Creamos una nueva columna 'Grupo_Edad' en el DataFrame covid19 con las categorías de edad especificadas\n",
    "covid19['Grupo_Edad'] = pd.cut(\n",
    "    covid19['EDAD'],\n",
    "    bins=[0, 17, 39, 59, float('inf')],\n",
    "    labels=[\"Niños y adolescentes (0-17 años)\", \"Adultos jóvenes (18-39 años)\", \"Adultos de mediana edad (40-59 años)\", \"Personas mayores (60+ años)\"]\n",
    ")\n",
    "covid19.head()"
   ]
  },
  {
   "cell_type": "code",
   "execution_count": 14,
   "metadata": {
    "colab": {
     "base_uri": "https://localhost:8080/",
     "height": 241
    },
    "executionInfo": {
     "elapsed": 21,
     "status": "ok",
     "timestamp": 1730206156259,
     "user": {
      "displayName": "LUIS ALBERTO PACHECO CONCHA",
      "userId": "16921349855389687986"
     },
     "user_tz": 300
    },
    "id": "Y0E1A0f9kz0A",
    "outputId": "510b9579-0e1b-481b-87cf-7f22a0afb825"
   },
   "outputs": [
    {
     "data": {
      "text/plain": [
       "Grupo_Edad\n",
       "Adultos jóvenes (18-39 años)            2044590\n",
       "Adultos de mediana edad (40-59 años)    1485974\n",
       "Personas mayores (60+ años)              726577\n",
       "Niños y adolescentes (0-17 años)         308273\n",
       "Name: count, dtype: int64"
      ]
     },
     "execution_count": 14,
     "metadata": {},
     "output_type": "execute_result"
    }
   ],
   "source": [
    "covid19.Grupo_Edad.value_counts()"
   ]
  },
  {
   "cell_type": "code",
   "execution_count": 15,
   "metadata": {
    "colab": {
     "base_uri": "https://localhost:8080/",
     "height": 241
    },
    "executionInfo": {
     "elapsed": 495,
     "status": "ok",
     "timestamp": 1730206156735,
     "user": {
      "displayName": "LUIS ALBERTO PACHECO CONCHA",
      "userId": "16921349855389687986"
     },
     "user_tz": 300
    },
    "id": "o4Zin2TMlCly",
    "outputId": "be97e0c6-2230-4c7b-cb76-35722a795680"
   },
   "outputs": [
    {
     "data": {
      "text/plain": [
       "Grupo_Edad\n",
       "Adultos de mediana edad (40-59 años)    1485974\n",
       "Personas mayores (60+ años)              726577\n",
       "Niños y adolescentes (0-17 años)              0\n",
       "Adultos jóvenes (18-39 años)                  0\n",
       "Name: count, dtype: int64"
      ]
     },
     "execution_count": 15,
     "metadata": {},
     "output_type": "execute_result"
    }
   ],
   "source": [
    "# Filtrar el DataFrame para excluir los grupos etarios especificados\n",
    "covid19_vulnerables = covid19[~covid19['Grupo_Edad'].isin([\"Niños y adolescentes (0-17 años)\", \"Adultos jóvenes (18-39 años)\"])]\n",
    "covid19_vulnerables.Grupo_Edad.value_counts()"
   ]
  },
  {
   "cell_type": "markdown",
   "metadata": {
    "id": "A_m7ZkSzmCRM"
   },
   "source": [
    "## Reshaping to Long\n",
    "\n",
    "\n",
    "We keep only the two most vulnerable groups, People per level, by distrit by year:"
   ]
  },
  {
   "cell_type": "code",
   "execution_count": 17,
   "metadata": {
    "colab": {
     "base_uri": "https://localhost:8080/",
     "height": 486
    },
    "executionInfo": {
     "elapsed": 465,
     "status": "ok",
     "timestamp": 1730206157181,
     "user": {
      "displayName": "LUIS ALBERTO PACHECO CONCHA",
      "userId": "16921349855389687986"
     },
     "user_tz": 300
    },
    "id": "DvbrjX9RltCz",
    "outputId": "1a4328ab-9877-486b-b8e6-cf5c5bc62c98"
   },
   "outputs": [
    {
     "data": {
      "text/html": [
       "<div>\n",
       "<style scoped>\n",
       "    .dataframe tbody tr th:only-of-type {\n",
       "        vertical-align: middle;\n",
       "    }\n",
       "\n",
       "    .dataframe tbody tr th {\n",
       "        vertical-align: top;\n",
       "    }\n",
       "\n",
       "    .dataframe thead tr th {\n",
       "        text-align: left;\n",
       "    }\n",
       "\n",
       "    .dataframe thead tr:last-of-type th {\n",
       "        text-align: right;\n",
       "    }\n",
       "</style>\n",
       "<table border=\"1\" class=\"dataframe\">\n",
       "  <thead>\n",
       "    <tr>\n",
       "      <th></th>\n",
       "      <th></th>\n",
       "      <th></th>\n",
       "      <th></th>\n",
       "      <th>Grupo_Edad</th>\n",
       "    </tr>\n",
       "    <tr>\n",
       "      <th></th>\n",
       "      <th></th>\n",
       "      <th></th>\n",
       "      <th></th>\n",
       "      <th>len</th>\n",
       "    </tr>\n",
       "    <tr>\n",
       "      <th>FECHA_RESULTADO</th>\n",
       "      <th>DEPARTAMENTO</th>\n",
       "      <th>PROVINCIA</th>\n",
       "      <th>Grupo_Edad</th>\n",
       "      <th></th>\n",
       "    </tr>\n",
       "  </thead>\n",
       "  <tbody>\n",
       "    <tr>\n",
       "      <th rowspan=\"5\" valign=\"top\">2020</th>\n",
       "      <th rowspan=\"5\" valign=\"top\">AMAZONAS</th>\n",
       "      <th rowspan=\"2\" valign=\"top\">BAGUA</th>\n",
       "      <th>Adultos de mediana edad (40-59 años)</th>\n",
       "      <td>2580</td>\n",
       "    </tr>\n",
       "    <tr>\n",
       "      <th>Personas mayores (60+ años)</th>\n",
       "      <td>1521</td>\n",
       "    </tr>\n",
       "    <tr>\n",
       "      <th rowspan=\"2\" valign=\"top\">BONGARA</th>\n",
       "      <th>Adultos de mediana edad (40-59 años)</th>\n",
       "      <td>129</td>\n",
       "    </tr>\n",
       "    <tr>\n",
       "      <th>Personas mayores (60+ años)</th>\n",
       "      <td>69</td>\n",
       "    </tr>\n",
       "    <tr>\n",
       "      <th>CHACHAPOYAS</th>\n",
       "      <th>Adultos de mediana edad (40-59 años)</th>\n",
       "      <td>696</td>\n",
       "    </tr>\n",
       "    <tr>\n",
       "      <th>...</th>\n",
       "      <th>...</th>\n",
       "      <th>...</th>\n",
       "      <th>...</th>\n",
       "      <td>...</td>\n",
       "    </tr>\n",
       "    <tr>\n",
       "      <th rowspan=\"5\" valign=\"top\">2024</th>\n",
       "      <th rowspan=\"2\" valign=\"top\">TUMBES</th>\n",
       "      <th rowspan=\"2\" valign=\"top\">ZARUMILLA</th>\n",
       "      <th>Adultos de mediana edad (40-59 años)</th>\n",
       "      <td>5</td>\n",
       "    </tr>\n",
       "    <tr>\n",
       "      <th>Personas mayores (60+ años)</th>\n",
       "      <td>4</td>\n",
       "    </tr>\n",
       "    <tr>\n",
       "      <th rowspan=\"3\" valign=\"top\">UCAYALI</th>\n",
       "      <th rowspan=\"2\" valign=\"top\">CORONEL PORTILLO</th>\n",
       "      <th>Adultos de mediana edad (40-59 años)</th>\n",
       "      <td>38</td>\n",
       "    </tr>\n",
       "    <tr>\n",
       "      <th>Personas mayores (60+ años)</th>\n",
       "      <td>19</td>\n",
       "    </tr>\n",
       "    <tr>\n",
       "      <th>PADRE ABAD</th>\n",
       "      <th>Adultos de mediana edad (40-59 años)</th>\n",
       "      <td>2</td>\n",
       "    </tr>\n",
       "  </tbody>\n",
       "</table>\n",
       "<p>2039 rows × 1 columns</p>\n",
       "</div>"
      ],
      "text/plain": [
       "                                                                                   Grupo_Edad\n",
       "                                                                                          len\n",
       "FECHA_RESULTADO DEPARTAMENTO PROVINCIA        Grupo_Edad                                     \n",
       "2020            AMAZONAS     BAGUA            Adultos de mediana edad (40-59 años)       2580\n",
       "                                              Personas mayores (60+ años)                1521\n",
       "                             BONGARA          Adultos de mediana edad (40-59 años)        129\n",
       "                                              Personas mayores (60+ años)                  69\n",
       "                             CHACHAPOYAS      Adultos de mediana edad (40-59 años)        696\n",
       "...                                                                                       ...\n",
       "2024            TUMBES       ZARUMILLA        Adultos de mediana edad (40-59 años)          5\n",
       "                                              Personas mayores (60+ años)                   4\n",
       "                UCAYALI      CORONEL PORTILLO Adultos de mediana edad (40-59 años)         38\n",
       "                                              Personas mayores (60+ años)                  19\n",
       "                             PADRE ABAD       Adultos de mediana edad (40-59 años)          2\n",
       "\n",
       "[2039 rows x 1 columns]"
      ]
     },
     "execution_count": 17,
     "metadata": {},
     "output_type": "execute_result"
    }
   ],
   "source": [
    "indexList=['FECHA_RESULTADO','DEPARTAMENTO','PROVINCIA','Grupo_Edad']\n",
    "aggregator={'Grupo_Edad':[len]}\n",
    "covid19_vulnerables=covid19_vulnerables.groupby(indexList,observed=True).agg(aggregator)\n",
    "covid19_vulnerables"
   ]
  },
  {
   "cell_type": "markdown",
   "metadata": {
    "id": "BsnA6vAvrvjK"
   },
   "source": [
    "Sending the counts to wide columns:"
   ]
  },
  {
   "cell_type": "code",
   "execution_count": 19,
   "metadata": {
    "colab": {
     "base_uri": "https://localhost:8080/",
     "height": 517
    },
    "executionInfo": {
     "elapsed": 507,
     "status": "ok",
     "timestamp": 1730206157665,
     "user": {
      "displayName": "LUIS ALBERTO PACHECO CONCHA",
      "userId": "16921349855389687986"
     },
     "user_tz": 300
    },
    "id": "o2IVUUpZrwK1",
    "outputId": "ad5a34fc-2204-43ff-be5f-ac983cb9c729"
   },
   "outputs": [
    {
     "data": {
      "text/html": [
       "<div>\n",
       "<style scoped>\n",
       "    .dataframe tbody tr th:only-of-type {\n",
       "        vertical-align: middle;\n",
       "    }\n",
       "\n",
       "    .dataframe tbody tr th {\n",
       "        vertical-align: top;\n",
       "    }\n",
       "\n",
       "    .dataframe thead tr th {\n",
       "        text-align: left;\n",
       "    }\n",
       "\n",
       "    .dataframe thead tr:last-of-type th {\n",
       "        text-align: right;\n",
       "    }\n",
       "</style>\n",
       "<table border=\"1\" class=\"dataframe\">\n",
       "  <thead>\n",
       "    <tr>\n",
       "      <th></th>\n",
       "      <th></th>\n",
       "      <th></th>\n",
       "      <th colspan=\"2\" halign=\"left\">Grupo_Edad</th>\n",
       "    </tr>\n",
       "    <tr>\n",
       "      <th></th>\n",
       "      <th></th>\n",
       "      <th></th>\n",
       "      <th colspan=\"2\" halign=\"left\">len</th>\n",
       "    </tr>\n",
       "    <tr>\n",
       "      <th></th>\n",
       "      <th></th>\n",
       "      <th>Grupo_Edad</th>\n",
       "      <th>Adultos de mediana edad (40-59 años)</th>\n",
       "      <th>Personas mayores (60+ años)</th>\n",
       "    </tr>\n",
       "    <tr>\n",
       "      <th>FECHA_RESULTADO</th>\n",
       "      <th>DEPARTAMENTO</th>\n",
       "      <th>PROVINCIA</th>\n",
       "      <th></th>\n",
       "      <th></th>\n",
       "    </tr>\n",
       "  </thead>\n",
       "  <tbody>\n",
       "    <tr>\n",
       "      <th rowspan=\"5\" valign=\"top\">2020</th>\n",
       "      <th rowspan=\"5\" valign=\"top\">AMAZONAS</th>\n",
       "      <th>BAGUA</th>\n",
       "      <td>2580.0</td>\n",
       "      <td>1521.0</td>\n",
       "    </tr>\n",
       "    <tr>\n",
       "      <th>BONGARA</th>\n",
       "      <td>129.0</td>\n",
       "      <td>69.0</td>\n",
       "    </tr>\n",
       "    <tr>\n",
       "      <th>CHACHAPOYAS</th>\n",
       "      <td>696.0</td>\n",
       "      <td>262.0</td>\n",
       "    </tr>\n",
       "    <tr>\n",
       "      <th>CONDORCANQUI</th>\n",
       "      <td>922.0</td>\n",
       "      <td>288.0</td>\n",
       "    </tr>\n",
       "    <tr>\n",
       "      <th>EN INVESTIGACIÓN</th>\n",
       "      <td>17.0</td>\n",
       "      <td>18.0</td>\n",
       "    </tr>\n",
       "    <tr>\n",
       "      <th>...</th>\n",
       "      <th>...</th>\n",
       "      <th>...</th>\n",
       "      <td>...</td>\n",
       "      <td>...</td>\n",
       "    </tr>\n",
       "    <tr>\n",
       "      <th rowspan=\"5\" valign=\"top\">2024</th>\n",
       "      <th rowspan=\"3\" valign=\"top\">TUMBES</th>\n",
       "      <th>CONTRALMIRANTE VILLAR</th>\n",
       "      <td>0.0</td>\n",
       "      <td>4.0</td>\n",
       "    </tr>\n",
       "    <tr>\n",
       "      <th>TUMBES</th>\n",
       "      <td>17.0</td>\n",
       "      <td>15.0</td>\n",
       "    </tr>\n",
       "    <tr>\n",
       "      <th>ZARUMILLA</th>\n",
       "      <td>5.0</td>\n",
       "      <td>4.0</td>\n",
       "    </tr>\n",
       "    <tr>\n",
       "      <th rowspan=\"2\" valign=\"top\">UCAYALI</th>\n",
       "      <th>CORONEL PORTILLO</th>\n",
       "      <td>38.0</td>\n",
       "      <td>19.0</td>\n",
       "    </tr>\n",
       "    <tr>\n",
       "      <th>PADRE ABAD</th>\n",
       "      <td>2.0</td>\n",
       "      <td>0.0</td>\n",
       "    </tr>\n",
       "  </tbody>\n",
       "</table>\n",
       "<p>1050 rows × 2 columns</p>\n",
       "</div>"
      ],
      "text/plain": [
       "                                                                             Grupo_Edad  \\\n",
       "                                                                                    len   \n",
       "Grupo_Edad                                         Adultos de mediana edad (40-59 años)   \n",
       "FECHA_RESULTADO DEPARTAMENTO PROVINCIA                                                    \n",
       "2020            AMAZONAS     BAGUA                                               2580.0   \n",
       "                             BONGARA                                              129.0   \n",
       "                             CHACHAPOYAS                                          696.0   \n",
       "                             CONDORCANQUI                                         922.0   \n",
       "                             EN INVESTIGACIÓN                                      17.0   \n",
       "...                                                                                 ...   \n",
       "2024            TUMBES       CONTRALMIRANTE VILLAR                                  0.0   \n",
       "                             TUMBES                                                17.0   \n",
       "                             ZARUMILLA                                              5.0   \n",
       "                UCAYALI      CORONEL PORTILLO                                      38.0   \n",
       "                             PADRE ABAD                                             2.0   \n",
       "\n",
       "                                                                                \n",
       "                                                                                \n",
       "Grupo_Edad                                         Personas mayores (60+ años)  \n",
       "FECHA_RESULTADO DEPARTAMENTO PROVINCIA                                          \n",
       "2020            AMAZONAS     BAGUA                                      1521.0  \n",
       "                             BONGARA                                      69.0  \n",
       "                             CHACHAPOYAS                                 262.0  \n",
       "                             CONDORCANQUI                                288.0  \n",
       "                             EN INVESTIGACIÓN                             18.0  \n",
       "...                                                                        ...  \n",
       "2024            TUMBES       CONTRALMIRANTE VILLAR                         4.0  \n",
       "                             TUMBES                                       15.0  \n",
       "                             ZARUMILLA                                     4.0  \n",
       "                UCAYALI      CORONEL PORTILLO                             19.0  \n",
       "                             PADRE ABAD                                    0.0  \n",
       "\n",
       "[1050 rows x 2 columns]"
      ]
     },
     "execution_count": 19,
     "metadata": {},
     "output_type": "execute_result"
    }
   ],
   "source": [
    "Covid19Draft=covid19_vulnerables.unstack(3).fillna(0) #leftmost index in rows\n",
    "Covid19Draft"
   ]
  },
  {
   "cell_type": "code",
   "execution_count": 20,
   "metadata": {
    "colab": {
     "base_uri": "https://localhost:8080/",
     "height": 455
    },
    "executionInfo": {
     "elapsed": 57,
     "status": "ok",
     "timestamp": 1730206157665,
     "user": {
      "displayName": "LUIS ALBERTO PACHECO CONCHA",
      "userId": "16921349855389687986"
     },
     "user_tz": 300
    },
    "id": "ZIWv8-gXsWs5",
    "outputId": "5504d64f-f1bf-4699-d4cc-00cf4e066f8e"
   },
   "outputs": [
    {
     "data": {
      "text/html": [
       "<div>\n",
       "<style scoped>\n",
       "    .dataframe tbody tr th:only-of-type {\n",
       "        vertical-align: middle;\n",
       "    }\n",
       "\n",
       "    .dataframe tbody tr th {\n",
       "        vertical-align: top;\n",
       "    }\n",
       "\n",
       "    .dataframe thead th {\n",
       "        text-align: right;\n",
       "    }\n",
       "</style>\n",
       "<table border=\"1\" class=\"dataframe\">\n",
       "  <thead>\n",
       "    <tr style=\"text-align: right;\">\n",
       "      <th></th>\n",
       "      <th>FECHA_RESULTADO</th>\n",
       "      <th>2020</th>\n",
       "      <th>2021</th>\n",
       "      <th>2022</th>\n",
       "      <th>2023</th>\n",
       "      <th>2024</th>\n",
       "    </tr>\n",
       "    <tr>\n",
       "      <th>DEPARTAMENTO</th>\n",
       "      <th>PROVINCIA</th>\n",
       "      <th></th>\n",
       "      <th></th>\n",
       "      <th></th>\n",
       "      <th></th>\n",
       "      <th></th>\n",
       "    </tr>\n",
       "  </thead>\n",
       "  <tbody>\n",
       "    <tr>\n",
       "      <th rowspan=\"5\" valign=\"top\">AMAZONAS</th>\n",
       "      <th>BAGUA</th>\n",
       "      <td>0.370885</td>\n",
       "      <td>0.391144</td>\n",
       "      <td>0.339266</td>\n",
       "      <td>0.533333</td>\n",
       "      <td>0.458333</td>\n",
       "    </tr>\n",
       "    <tr>\n",
       "      <th>BONGARA</th>\n",
       "      <td>0.348485</td>\n",
       "      <td>0.363825</td>\n",
       "      <td>0.305233</td>\n",
       "      <td>0.500000</td>\n",
       "      <td>0.600000</td>\n",
       "    </tr>\n",
       "    <tr>\n",
       "      <th>CHACHAPOYAS</th>\n",
       "      <td>0.273486</td>\n",
       "      <td>0.321394</td>\n",
       "      <td>0.268201</td>\n",
       "      <td>0.417476</td>\n",
       "      <td>0.440860</td>\n",
       "    </tr>\n",
       "    <tr>\n",
       "      <th>CONDORCANQUI</th>\n",
       "      <td>0.238017</td>\n",
       "      <td>0.339367</td>\n",
       "      <td>0.205714</td>\n",
       "      <td>0.000000</td>\n",
       "      <td>0.000000</td>\n",
       "    </tr>\n",
       "    <tr>\n",
       "      <th>EN INVESTIGACIÓN</th>\n",
       "      <td>0.514286</td>\n",
       "      <td>0.392857</td>\n",
       "      <td>0.458333</td>\n",
       "      <td>0.333333</td>\n",
       "      <td>0.000000</td>\n",
       "    </tr>\n",
       "    <tr>\n",
       "      <th>...</th>\n",
       "      <th>...</th>\n",
       "      <td>...</td>\n",
       "      <td>...</td>\n",
       "      <td>...</td>\n",
       "      <td>...</td>\n",
       "      <td>...</td>\n",
       "    </tr>\n",
       "    <tr>\n",
       "      <th rowspan=\"5\" valign=\"top\">UCAYALI</th>\n",
       "      <th>ATALAYA</th>\n",
       "      <td>0.325243</td>\n",
       "      <td>0.241379</td>\n",
       "      <td>0.344828</td>\n",
       "      <td>0.000000</td>\n",
       "      <td>0.000000</td>\n",
       "    </tr>\n",
       "    <tr>\n",
       "      <th>CORONEL PORTILLO</th>\n",
       "      <td>0.387321</td>\n",
       "      <td>0.342441</td>\n",
       "      <td>0.328023</td>\n",
       "      <td>0.404255</td>\n",
       "      <td>0.333333</td>\n",
       "    </tr>\n",
       "    <tr>\n",
       "      <th>EN INVESTIGACIÓN</th>\n",
       "      <td>0.335516</td>\n",
       "      <td>0.375000</td>\n",
       "      <td>0.255208</td>\n",
       "      <td>0.500000</td>\n",
       "      <td>0.000000</td>\n",
       "    </tr>\n",
       "    <tr>\n",
       "      <th>PADRE ABAD</th>\n",
       "      <td>0.309686</td>\n",
       "      <td>0.332174</td>\n",
       "      <td>0.279487</td>\n",
       "      <td>0.071429</td>\n",
       "      <td>0.000000</td>\n",
       "    </tr>\n",
       "    <tr>\n",
       "      <th>PURUS</th>\n",
       "      <td>0.224599</td>\n",
       "      <td>0.300000</td>\n",
       "      <td>0.172414</td>\n",
       "      <td>0.000000</td>\n",
       "      <td>0.000000</td>\n",
       "    </tr>\n",
       "  </tbody>\n",
       "</table>\n",
       "<p>221 rows × 5 columns</p>\n",
       "</div>"
      ],
      "text/plain": [
       "FECHA_RESULTADO                    2020      2021      2022      2023  \\\n",
       "DEPARTAMENTO PROVINCIA                                                  \n",
       "AMAZONAS     BAGUA             0.370885  0.391144  0.339266  0.533333   \n",
       "             BONGARA           0.348485  0.363825  0.305233  0.500000   \n",
       "             CHACHAPOYAS       0.273486  0.321394  0.268201  0.417476   \n",
       "             CONDORCANQUI      0.238017  0.339367  0.205714  0.000000   \n",
       "             EN INVESTIGACIÓN  0.514286  0.392857  0.458333  0.333333   \n",
       "...                                 ...       ...       ...       ...   \n",
       "UCAYALI      ATALAYA           0.325243  0.241379  0.344828  0.000000   \n",
       "             CORONEL PORTILLO  0.387321  0.342441  0.328023  0.404255   \n",
       "             EN INVESTIGACIÓN  0.335516  0.375000  0.255208  0.500000   \n",
       "             PADRE ABAD        0.309686  0.332174  0.279487  0.071429   \n",
       "             PURUS             0.224599  0.300000  0.172414  0.000000   \n",
       "\n",
       "FECHA_RESULTADO                    2024  \n",
       "DEPARTAMENTO PROVINCIA                   \n",
       "AMAZONAS     BAGUA             0.458333  \n",
       "             BONGARA           0.600000  \n",
       "             CHACHAPOYAS       0.440860  \n",
       "             CONDORCANQUI      0.000000  \n",
       "             EN INVESTIGACIÓN  0.000000  \n",
       "...                                 ...  \n",
       "UCAYALI      ATALAYA           0.000000  \n",
       "             CORONEL PORTILLO  0.333333  \n",
       "             EN INVESTIGACIÓN  0.000000  \n",
       "             PADRE ABAD        0.000000  \n",
       "             PURUS             0.000000  \n",
       "\n",
       "[221 rows x 5 columns]"
      ]
     },
     "execution_count": 20,
     "metadata": {},
     "output_type": "execute_result"
    }
   ],
   "source": [
    "Covid19Draft['ALARMA_pct']=Covid19Draft.iloc[:,1]/(Covid19Draft.iloc[:,0] + Covid19Draft.iloc[:,1])\n",
    "covid19_vulnerables_Alarm_w=Covid19Draft['ALARMA_pct'].unstack('FECHA_RESULTADO').fillna(0)\n",
    "covid19_vulnerables_Alarm_w"
   ]
  },
  {
   "cell_type": "markdown",
   "metadata": {
    "id": "-MxiMne1swNy"
   },
   "source": [
    "Notice the data type:"
   ]
  },
  {
   "cell_type": "code",
   "execution_count": 22,
   "metadata": {
    "colab": {
     "base_uri": "https://localhost:8080/"
    },
    "executionInfo": {
     "elapsed": 48,
     "status": "ok",
     "timestamp": 1730206157666,
     "user": {
      "displayName": "LUIS ALBERTO PACHECO CONCHA",
      "userId": "16921349855389687986"
     },
     "user_tz": 300
    },
    "id": "C46vO9G0swrS",
    "outputId": "f62887d7-bd81-4ba8-89e8-eb6a2104843c"
   },
   "outputs": [
    {
     "data": {
      "text/plain": [
       "Index(['2020', '2021', '2022', '2023', '2024'], dtype='object', name='FECHA_RESULTADO')"
      ]
     },
     "execution_count": 22,
     "metadata": {},
     "output_type": "execute_result"
    }
   ],
   "source": [
    "covid19_vulnerables_Alarm_w.columns"
   ]
  },
  {
   "cell_type": "markdown",
   "metadata": {
    "id": "2wfl5MRotRfB"
   },
   "source": [
    "We should have text not numbers:"
   ]
  },
  {
   "cell_type": "code",
   "execution_count": 24,
   "metadata": {
    "id": "t2EXRWVVtSBY"
   },
   "outputs": [],
   "source": [
    "covid19_vulnerables_Alarm_w.columns=['year'+str(x) for x in covid19_vulnerables_Alarm_w.columns]"
   ]
  },
  {
   "cell_type": "code",
   "execution_count": 25,
   "metadata": {
    "colab": {
     "base_uri": "https://localhost:8080/",
     "height": 455
    },
    "executionInfo": {
     "elapsed": 35,
     "status": "ok",
     "timestamp": 1730206157667,
     "user": {
      "displayName": "LUIS ALBERTO PACHECO CONCHA",
      "userId": "16921349855389687986"
     },
     "user_tz": 300
    },
    "id": "qECz4YgptflE",
    "outputId": "8231036a-06ed-4b79-9486-a16a9f86a023"
   },
   "outputs": [
    {
     "data": {
      "text/html": [
       "<div>\n",
       "<style scoped>\n",
       "    .dataframe tbody tr th:only-of-type {\n",
       "        vertical-align: middle;\n",
       "    }\n",
       "\n",
       "    .dataframe tbody tr th {\n",
       "        vertical-align: top;\n",
       "    }\n",
       "\n",
       "    .dataframe thead th {\n",
       "        text-align: right;\n",
       "    }\n",
       "</style>\n",
       "<table border=\"1\" class=\"dataframe\">\n",
       "  <thead>\n",
       "    <tr style=\"text-align: right;\">\n",
       "      <th></th>\n",
       "      <th></th>\n",
       "      <th>year2020</th>\n",
       "      <th>year2021</th>\n",
       "      <th>year2022</th>\n",
       "      <th>year2023</th>\n",
       "      <th>year2024</th>\n",
       "    </tr>\n",
       "    <tr>\n",
       "      <th>DEPARTAMENTO</th>\n",
       "      <th>PROVINCIA</th>\n",
       "      <th></th>\n",
       "      <th></th>\n",
       "      <th></th>\n",
       "      <th></th>\n",
       "      <th></th>\n",
       "    </tr>\n",
       "  </thead>\n",
       "  <tbody>\n",
       "    <tr>\n",
       "      <th rowspan=\"5\" valign=\"top\">AMAZONAS</th>\n",
       "      <th>BAGUA</th>\n",
       "      <td>0.370885</td>\n",
       "      <td>0.391144</td>\n",
       "      <td>0.339266</td>\n",
       "      <td>0.533333</td>\n",
       "      <td>0.458333</td>\n",
       "    </tr>\n",
       "    <tr>\n",
       "      <th>BONGARA</th>\n",
       "      <td>0.348485</td>\n",
       "      <td>0.363825</td>\n",
       "      <td>0.305233</td>\n",
       "      <td>0.500000</td>\n",
       "      <td>0.600000</td>\n",
       "    </tr>\n",
       "    <tr>\n",
       "      <th>CHACHAPOYAS</th>\n",
       "      <td>0.273486</td>\n",
       "      <td>0.321394</td>\n",
       "      <td>0.268201</td>\n",
       "      <td>0.417476</td>\n",
       "      <td>0.440860</td>\n",
       "    </tr>\n",
       "    <tr>\n",
       "      <th>CONDORCANQUI</th>\n",
       "      <td>0.238017</td>\n",
       "      <td>0.339367</td>\n",
       "      <td>0.205714</td>\n",
       "      <td>0.000000</td>\n",
       "      <td>0.000000</td>\n",
       "    </tr>\n",
       "    <tr>\n",
       "      <th>EN INVESTIGACIÓN</th>\n",
       "      <td>0.514286</td>\n",
       "      <td>0.392857</td>\n",
       "      <td>0.458333</td>\n",
       "      <td>0.333333</td>\n",
       "      <td>0.000000</td>\n",
       "    </tr>\n",
       "    <tr>\n",
       "      <th>...</th>\n",
       "      <th>...</th>\n",
       "      <td>...</td>\n",
       "      <td>...</td>\n",
       "      <td>...</td>\n",
       "      <td>...</td>\n",
       "      <td>...</td>\n",
       "    </tr>\n",
       "    <tr>\n",
       "      <th rowspan=\"5\" valign=\"top\">UCAYALI</th>\n",
       "      <th>ATALAYA</th>\n",
       "      <td>0.325243</td>\n",
       "      <td>0.241379</td>\n",
       "      <td>0.344828</td>\n",
       "      <td>0.000000</td>\n",
       "      <td>0.000000</td>\n",
       "    </tr>\n",
       "    <tr>\n",
       "      <th>CORONEL PORTILLO</th>\n",
       "      <td>0.387321</td>\n",
       "      <td>0.342441</td>\n",
       "      <td>0.328023</td>\n",
       "      <td>0.404255</td>\n",
       "      <td>0.333333</td>\n",
       "    </tr>\n",
       "    <tr>\n",
       "      <th>EN INVESTIGACIÓN</th>\n",
       "      <td>0.335516</td>\n",
       "      <td>0.375000</td>\n",
       "      <td>0.255208</td>\n",
       "      <td>0.500000</td>\n",
       "      <td>0.000000</td>\n",
       "    </tr>\n",
       "    <tr>\n",
       "      <th>PADRE ABAD</th>\n",
       "      <td>0.309686</td>\n",
       "      <td>0.332174</td>\n",
       "      <td>0.279487</td>\n",
       "      <td>0.071429</td>\n",
       "      <td>0.000000</td>\n",
       "    </tr>\n",
       "    <tr>\n",
       "      <th>PURUS</th>\n",
       "      <td>0.224599</td>\n",
       "      <td>0.300000</td>\n",
       "      <td>0.172414</td>\n",
       "      <td>0.000000</td>\n",
       "      <td>0.000000</td>\n",
       "    </tr>\n",
       "  </tbody>\n",
       "</table>\n",
       "<p>221 rows × 5 columns</p>\n",
       "</div>"
      ],
      "text/plain": [
       "                               year2020  year2021  year2022  year2023  \\\n",
       "DEPARTAMENTO PROVINCIA                                                  \n",
       "AMAZONAS     BAGUA             0.370885  0.391144  0.339266  0.533333   \n",
       "             BONGARA           0.348485  0.363825  0.305233  0.500000   \n",
       "             CHACHAPOYAS       0.273486  0.321394  0.268201  0.417476   \n",
       "             CONDORCANQUI      0.238017  0.339367  0.205714  0.000000   \n",
       "             EN INVESTIGACIÓN  0.514286  0.392857  0.458333  0.333333   \n",
       "...                                 ...       ...       ...       ...   \n",
       "UCAYALI      ATALAYA           0.325243  0.241379  0.344828  0.000000   \n",
       "             CORONEL PORTILLO  0.387321  0.342441  0.328023  0.404255   \n",
       "             EN INVESTIGACIÓN  0.335516  0.375000  0.255208  0.500000   \n",
       "             PADRE ABAD        0.309686  0.332174  0.279487  0.071429   \n",
       "             PURUS             0.224599  0.300000  0.172414  0.000000   \n",
       "\n",
       "                               year2024  \n",
       "DEPARTAMENTO PROVINCIA                   \n",
       "AMAZONAS     BAGUA             0.458333  \n",
       "             BONGARA           0.600000  \n",
       "             CHACHAPOYAS       0.440860  \n",
       "             CONDORCANQUI      0.000000  \n",
       "             EN INVESTIGACIÓN  0.000000  \n",
       "...                                 ...  \n",
       "UCAYALI      ATALAYA           0.000000  \n",
       "             CORONEL PORTILLO  0.333333  \n",
       "             EN INVESTIGACIÓN  0.000000  \n",
       "             PADRE ABAD        0.000000  \n",
       "             PURUS             0.000000  \n",
       "\n",
       "[221 rows x 5 columns]"
      ]
     },
     "execution_count": 25,
     "metadata": {},
     "output_type": "execute_result"
    }
   ],
   "source": [
    "#then\n",
    "covid19_vulnerables_Alarm_w"
   ]
  },
  {
   "cell_type": "code",
   "execution_count": 26,
   "metadata": {
    "colab": {
     "base_uri": "https://localhost:8080/",
     "height": 423
    },
    "executionInfo": {
     "elapsed": 31,
     "status": "ok",
     "timestamp": 1730206157667,
     "user": {
      "displayName": "LUIS ALBERTO PACHECO CONCHA",
      "userId": "16921349855389687986"
     },
     "user_tz": 300
    },
    "id": "a70i9BsrtlLP",
    "outputId": "bb62fc88-fae9-4898-ea0d-471bd3f4f4da"
   },
   "outputs": [
    {
     "data": {
      "text/html": [
       "<div>\n",
       "<style scoped>\n",
       "    .dataframe tbody tr th:only-of-type {\n",
       "        vertical-align: middle;\n",
       "    }\n",
       "\n",
       "    .dataframe tbody tr th {\n",
       "        vertical-align: top;\n",
       "    }\n",
       "\n",
       "    .dataframe thead th {\n",
       "        text-align: right;\n",
       "    }\n",
       "</style>\n",
       "<table border=\"1\" class=\"dataframe\">\n",
       "  <thead>\n",
       "    <tr style=\"text-align: right;\">\n",
       "      <th></th>\n",
       "      <th>DEPARTAMENTO</th>\n",
       "      <th>PROVINCIA</th>\n",
       "      <th>year2020</th>\n",
       "      <th>year2021</th>\n",
       "      <th>year2022</th>\n",
       "      <th>year2023</th>\n",
       "      <th>year2024</th>\n",
       "    </tr>\n",
       "  </thead>\n",
       "  <tbody>\n",
       "    <tr>\n",
       "      <th>0</th>\n",
       "      <td>AMAZONAS</td>\n",
       "      <td>BAGUA</td>\n",
       "      <td>0.370885</td>\n",
       "      <td>0.391144</td>\n",
       "      <td>0.339266</td>\n",
       "      <td>0.533333</td>\n",
       "      <td>0.458333</td>\n",
       "    </tr>\n",
       "    <tr>\n",
       "      <th>1</th>\n",
       "      <td>AMAZONAS</td>\n",
       "      <td>BONGARA</td>\n",
       "      <td>0.348485</td>\n",
       "      <td>0.363825</td>\n",
       "      <td>0.305233</td>\n",
       "      <td>0.500000</td>\n",
       "      <td>0.600000</td>\n",
       "    </tr>\n",
       "    <tr>\n",
       "      <th>2</th>\n",
       "      <td>AMAZONAS</td>\n",
       "      <td>CHACHAPOYAS</td>\n",
       "      <td>0.273486</td>\n",
       "      <td>0.321394</td>\n",
       "      <td>0.268201</td>\n",
       "      <td>0.417476</td>\n",
       "      <td>0.440860</td>\n",
       "    </tr>\n",
       "    <tr>\n",
       "      <th>3</th>\n",
       "      <td>AMAZONAS</td>\n",
       "      <td>CONDORCANQUI</td>\n",
       "      <td>0.238017</td>\n",
       "      <td>0.339367</td>\n",
       "      <td>0.205714</td>\n",
       "      <td>0.000000</td>\n",
       "      <td>0.000000</td>\n",
       "    </tr>\n",
       "    <tr>\n",
       "      <th>4</th>\n",
       "      <td>AMAZONAS</td>\n",
       "      <td>EN INVESTIGACIÓN</td>\n",
       "      <td>0.514286</td>\n",
       "      <td>0.392857</td>\n",
       "      <td>0.458333</td>\n",
       "      <td>0.333333</td>\n",
       "      <td>0.000000</td>\n",
       "    </tr>\n",
       "    <tr>\n",
       "      <th>...</th>\n",
       "      <td>...</td>\n",
       "      <td>...</td>\n",
       "      <td>...</td>\n",
       "      <td>...</td>\n",
       "      <td>...</td>\n",
       "      <td>...</td>\n",
       "      <td>...</td>\n",
       "    </tr>\n",
       "    <tr>\n",
       "      <th>216</th>\n",
       "      <td>UCAYALI</td>\n",
       "      <td>ATALAYA</td>\n",
       "      <td>0.325243</td>\n",
       "      <td>0.241379</td>\n",
       "      <td>0.344828</td>\n",
       "      <td>0.000000</td>\n",
       "      <td>0.000000</td>\n",
       "    </tr>\n",
       "    <tr>\n",
       "      <th>217</th>\n",
       "      <td>UCAYALI</td>\n",
       "      <td>CORONEL PORTILLO</td>\n",
       "      <td>0.387321</td>\n",
       "      <td>0.342441</td>\n",
       "      <td>0.328023</td>\n",
       "      <td>0.404255</td>\n",
       "      <td>0.333333</td>\n",
       "    </tr>\n",
       "    <tr>\n",
       "      <th>218</th>\n",
       "      <td>UCAYALI</td>\n",
       "      <td>EN INVESTIGACIÓN</td>\n",
       "      <td>0.335516</td>\n",
       "      <td>0.375000</td>\n",
       "      <td>0.255208</td>\n",
       "      <td>0.500000</td>\n",
       "      <td>0.000000</td>\n",
       "    </tr>\n",
       "    <tr>\n",
       "      <th>219</th>\n",
       "      <td>UCAYALI</td>\n",
       "      <td>PADRE ABAD</td>\n",
       "      <td>0.309686</td>\n",
       "      <td>0.332174</td>\n",
       "      <td>0.279487</td>\n",
       "      <td>0.071429</td>\n",
       "      <td>0.000000</td>\n",
       "    </tr>\n",
       "    <tr>\n",
       "      <th>220</th>\n",
       "      <td>UCAYALI</td>\n",
       "      <td>PURUS</td>\n",
       "      <td>0.224599</td>\n",
       "      <td>0.300000</td>\n",
       "      <td>0.172414</td>\n",
       "      <td>0.000000</td>\n",
       "      <td>0.000000</td>\n",
       "    </tr>\n",
       "  </tbody>\n",
       "</table>\n",
       "<p>221 rows × 7 columns</p>\n",
       "</div>"
      ],
      "text/plain": [
       "    DEPARTAMENTO         PROVINCIA  year2020  year2021  year2022  year2023  \\\n",
       "0       AMAZONAS             BAGUA  0.370885  0.391144  0.339266  0.533333   \n",
       "1       AMAZONAS           BONGARA  0.348485  0.363825  0.305233  0.500000   \n",
       "2       AMAZONAS       CHACHAPOYAS  0.273486  0.321394  0.268201  0.417476   \n",
       "3       AMAZONAS      CONDORCANQUI  0.238017  0.339367  0.205714  0.000000   \n",
       "4       AMAZONAS  EN INVESTIGACIÓN  0.514286  0.392857  0.458333  0.333333   \n",
       "..           ...               ...       ...       ...       ...       ...   \n",
       "216      UCAYALI           ATALAYA  0.325243  0.241379  0.344828  0.000000   \n",
       "217      UCAYALI  CORONEL PORTILLO  0.387321  0.342441  0.328023  0.404255   \n",
       "218      UCAYALI  EN INVESTIGACIÓN  0.335516  0.375000  0.255208  0.500000   \n",
       "219      UCAYALI        PADRE ABAD  0.309686  0.332174  0.279487  0.071429   \n",
       "220      UCAYALI             PURUS  0.224599  0.300000  0.172414  0.000000   \n",
       "\n",
       "     year2024  \n",
       "0    0.458333  \n",
       "1    0.600000  \n",
       "2    0.440860  \n",
       "3    0.000000  \n",
       "4    0.000000  \n",
       "..        ...  \n",
       "216  0.000000  \n",
       "217  0.333333  \n",
       "218  0.000000  \n",
       "219  0.000000  \n",
       "220  0.000000  \n",
       "\n",
       "[221 rows x 7 columns]"
      ]
     },
     "execution_count": 26,
     "metadata": {},
     "output_type": "execute_result"
    }
   ],
   "source": [
    "# as usual\n",
    "covid19_vulnerables_Alarm_w.reset_index(inplace=True)\n",
    "covid19_vulnerables_Alarm_w"
   ]
  },
  {
   "cell_type": "code",
   "execution_count": 136,
   "metadata": {},
   "outputs": [
    {
     "name": "stdout",
     "output_type": "stream",
     "text": [
      "Defaulting to user installation because normal site-packages is not writeable\n",
      "Requirement already satisfied: geopandas in c:\\users\\aml\\appdata\\roaming\\python\\python312\\site-packages (1.0.1)\n",
      "Requirement already satisfied: numpy>=1.22 in c:\\programdata\\anaconda3\\lib\\site-packages (from geopandas) (1.26.4)\n",
      "Requirement already satisfied: pyogrio>=0.7.2 in c:\\users\\aml\\appdata\\roaming\\python\\python312\\site-packages (from geopandas) (0.10.0)\n",
      "Requirement already satisfied: packaging in c:\\programdata\\anaconda3\\lib\\site-packages (from geopandas) (23.2)\n",
      "Requirement already satisfied: pandas>=1.4.0 in c:\\programdata\\anaconda3\\lib\\site-packages (from geopandas) (2.2.2)\n",
      "Requirement already satisfied: pyproj>=3.3.0 in c:\\users\\aml\\appdata\\roaming\\python\\python312\\site-packages (from geopandas) (3.7.0)\n",
      "Requirement already satisfied: shapely>=2.0.0 in c:\\users\\aml\\appdata\\roaming\\python\\python312\\site-packages (from geopandas) (2.0.6)\n",
      "Requirement already satisfied: python-dateutil>=2.8.2 in c:\\programdata\\anaconda3\\lib\\site-packages (from pandas>=1.4.0->geopandas) (2.9.0.post0)\n",
      "Requirement already satisfied: pytz>=2020.1 in c:\\programdata\\anaconda3\\lib\\site-packages (from pandas>=1.4.0->geopandas) (2024.1)\n",
      "Requirement already satisfied: tzdata>=2022.7 in c:\\programdata\\anaconda3\\lib\\site-packages (from pandas>=1.4.0->geopandas) (2023.3)\n",
      "Requirement already satisfied: certifi in c:\\programdata\\anaconda3\\lib\\site-packages (from pyogrio>=0.7.2->geopandas) (2024.7.4)\n",
      "Requirement already satisfied: six>=1.5 in c:\\programdata\\anaconda3\\lib\\site-packages (from python-dateutil>=2.8.2->pandas>=1.4.0->geopandas) (1.16.0)\n"
     ]
    }
   ],
   "source": [
    "!pip install geopandas"
   ]
  },
  {
   "cell_type": "markdown",
   "metadata": {
    "id": "HtUTQ-Ywtr1b"
   },
   "source": [
    "Let's call a map:"
   ]
  },
  {
   "cell_type": "code",
   "execution_count": 139,
   "metadata": {
    "colab": {
     "base_uri": "https://localhost:8080/"
    },
    "executionInfo": {
     "elapsed": 4728,
     "status": "ok",
     "timestamp": 1730206162368,
     "user": {
      "displayName": "LUIS ALBERTO PACHECO CONCHA",
      "userId": "16921349855389687986"
     },
     "user_tz": 300
    },
    "id": "zfGqDg4Ktrua",
    "outputId": "6fb35ee9-c9db-44d5-c240-389e2721cc73"
   },
   "outputs": [
    {
     "ename": "ModuleNotFoundError",
     "evalue": "No module named 'geopandas'",
     "output_type": "error",
     "traceback": [
      "\u001b[1;31m---------------------------------------------------------------------------\u001b[0m",
      "\u001b[1;31mModuleNotFoundError\u001b[0m                       Traceback (most recent call last)",
      "Cell \u001b[1;32mIn[139], line 3\u001b[0m\n\u001b[0;32m      1\u001b[0m mapLink\u001b[38;5;241m=\u001b[39m\u001b[38;5;124m'\u001b[39m\u001b[38;5;124mhttps://github.com/SocialAnalytics-StrategicIntelligence/GeoDF_Analytics/raw/main/maps/ProvsINEI2023.zip\u001b[39m\u001b[38;5;124m'\u001b[39m\n\u001b[1;32m----> 3\u001b[0m \u001b[38;5;28;01mimport\u001b[39;00m \u001b[38;5;21;01mgeopandas\u001b[39;00m \u001b[38;5;28;01mas\u001b[39;00m \u001b[38;5;21;01mgpd\u001b[39;00m\n\u001b[0;32m      5\u001b[0m provmap\u001b[38;5;241m=\u001b[39mgpd\u001b[38;5;241m.\u001b[39mread_file(mapLink)\n\u001b[0;32m      7\u001b[0m provmap\u001b[38;5;241m.\u001b[39minfo()\n",
      "\u001b[1;31mModuleNotFoundError\u001b[0m: No module named 'geopandas'"
     ]
    }
   ],
   "source": [
    "mapLink='https://github.com/SocialAnalytics-StrategicIntelligence/GeoDF_Analytics/raw/main/maps/ProvsINEI2023.zip'\n",
    "\n",
    "import geopandas as gpd\n",
    "\n",
    "provmap=gpd.read_file(mapLink)\n",
    "\n",
    "provmap.info()"
   ]
  },
  {
   "cell_type": "markdown",
   "metadata": {
    "id": "sp-Uwl-rt004"
   },
   "source": [
    "Let me create a column, concatenating two:"
   ]
  },
  {
   "cell_type": "code",
   "execution_count": null,
   "metadata": {
    "colab": {
     "base_uri": "https://localhost:8080/",
     "height": 363
    },
    "executionInfo": {
     "elapsed": 58,
     "status": "ok",
     "timestamp": 1730206162368,
     "user": {
      "displayName": "LUIS ALBERTO PACHECO CONCHA",
      "userId": "16921349855389687986"
     },
     "user_tz": 300
    },
    "id": "0ggv5tT0t1V6",
    "outputId": "c703a734-29e3-4a29-a12b-7f9879ac3053"
   },
   "outputs": [],
   "source": [
    "provmap['location']=['+'.join(x[0]) for x in zip(provmap.iloc[:,3:5].values)]\n",
    "provmap.head(10)"
   ]
  },
  {
   "cell_type": "markdown",
   "metadata": {
    "id": "SLXrU_lduCEJ"
   },
   "source": [
    "I will do the same with the data frame:"
   ]
  },
  {
   "cell_type": "code",
   "execution_count": null,
   "metadata": {
    "colab": {
     "base_uri": "https://localhost:8080/",
     "height": 206
    },
    "executionInfo": {
     "elapsed": 33,
     "status": "ok",
     "timestamp": 1730206162369,
     "user": {
      "displayName": "LUIS ALBERTO PACHECO CONCHA",
      "userId": "16921349855389687986"
     },
     "user_tz": 300
    },
    "id": "ioZeBrjXuBfI",
    "outputId": "9ef7069b-7274-42f2-a7f0-ca33168ac101"
   },
   "outputs": [],
   "source": [
    "covid19_vulnerables_Alarm_w['location']=['+'.join(x[0]) for x in zip(covid19_vulnerables_Alarm_w.iloc[:,:2].values)]\n",
    "covid19_vulnerables_Alarm_w.head()"
   ]
  },
  {
   "cell_type": "markdown",
   "metadata": {
    "id": "Hhg0G1bluKFI"
   },
   "source": [
    "## Preprocessing"
   ]
  },
  {
   "cell_type": "markdown",
   "metadata": {
    "id": "I8zQrsWCuZrB"
   },
   "source": [
    "The names from non-english speaking countries may come with some symbols that may cause trouble (', ~). Let's get rid of those:"
   ]
  },
  {
   "cell_type": "code",
   "execution_count": null,
   "metadata": {
    "colab": {
     "base_uri": "https://localhost:8080/"
    },
    "executionInfo": {
     "elapsed": 4890,
     "status": "ok",
     "timestamp": 1730206167235,
     "user": {
      "displayName": "LUIS ALBERTO PACHECO CONCHA",
      "userId": "16921349855389687986"
     },
     "user_tz": 300
    },
    "id": "-O6dRToyuu2K",
    "outputId": "d6f7948e-e9f6-4e28-f715-bd270617f9a4"
   },
   "outputs": [],
   "source": [
    "!pip install unidecode"
   ]
  },
  {
   "cell_type": "code",
   "execution_count": null,
   "metadata": {
    "id": "FVuUbwLgt4dy"
   },
   "outputs": [],
   "source": [
    "import unidecode\n",
    "\n",
    "\n",
    "byePunctuation=lambda x: unidecode.unidecode(x)\n",
    "covid19_vulnerables_Alarm_w['location']=covid19_vulnerables_Alarm_w['location'].apply(byePunctuation)\n",
    "provmap['location']=provmap['location'].apply(byePunctuation)"
   ]
  },
  {
   "cell_type": "code",
   "execution_count": null,
   "metadata": {
    "id": "1-F6NdM1tyYR"
   },
   "outputs": [],
   "source": [
    "# replacing dashes and multiple spaces by a simple space\n",
    "covid19_vulnerables_Alarm_w['location']=covid19_vulnerables_Alarm_w.location.str.replace(\"\\-|\\_|\\s+\",\"\",regex=True)\n",
    "provmap['location']=provmap.location.str.replace(\"\\-|\\_|\\s+\",\"\",regex=True)"
   ]
  },
  {
   "cell_type": "markdown",
   "metadata": {
    "id": "S1yIVAUhu8WS"
   },
   "source": [
    "## Merging\n",
    "\n",
    "We need to merge both tables now. That can happen effectively if both tables have a **key** column: a column (or collection of them) whose values in one table are the same in the other one.\n",
    "\n",
    "The match need not be exact, but only common values in the *key* are merged.\n",
    "\n",
    "Let's find out what is NOT matched in each table:"
   ]
  },
  {
   "cell_type": "code",
   "execution_count": null,
   "metadata": {
    "id": "UO4saa_Ku9j1"
   },
   "outputs": [],
   "source": [
    "nomatch_df=set(covid19_vulnerables_Alarm_w.location)- set(provmap.location)\n",
    "nomatch_gdf=set(provmap.location)-set(covid19_vulnerables_Alarm_w.location)"
   ]
  },
  {
   "cell_type": "markdown",
   "metadata": {
    "id": "Rd-wHaejvKLB"
   },
   "source": [
    "This is what could not be matched:"
   ]
  },
  {
   "cell_type": "code",
   "execution_count": null,
   "metadata": {
    "colab": {
     "base_uri": "https://localhost:8080/"
    },
    "executionInfo": {
     "elapsed": 43,
     "status": "ok",
     "timestamp": 1730206167238,
     "user": {
      "displayName": "LUIS ALBERTO PACHECO CONCHA",
      "userId": "16921349855389687986"
     },
     "user_tz": 300
    },
    "id": "TV2U9GTTvKAq",
    "outputId": "52001de9-301b-4f94-a838-14fd599496b1"
   },
   "outputs": [],
   "source": [
    "len(nomatch_df), len(nomatch_gdf)"
   ]
  },
  {
   "cell_type": "markdown",
   "metadata": {
    "id": "A0oTp-VDvPPy"
   },
   "source": [
    "The right way to go is using fuzzy merging (remember we need the fuzz):"
   ]
  },
  {
   "cell_type": "code",
   "execution_count": null,
   "metadata": {
    "colab": {
     "base_uri": "https://localhost:8080/"
    },
    "executionInfo": {
     "elapsed": 9589,
     "status": "ok",
     "timestamp": 1730206196965,
     "user": {
      "displayName": "LUIS ALBERTO PACHECO CONCHA",
      "userId": "16921349855389687986"
     },
     "user_tz": 300
    },
    "id": "Eit9uWt8vWvg",
    "outputId": "6fdd51fc-9a59-4033-861b-54845d861200"
   },
   "outputs": [],
   "source": [
    "!pip install thefuzz"
   ]
  },
  {
   "cell_type": "code",
   "execution_count": null,
   "metadata": {
    "colab": {
     "base_uri": "https://localhost:8080/"
    },
    "executionInfo": {
     "elapsed": 64,
     "status": "ok",
     "timestamp": 1730206196965,
     "user": {
      "displayName": "LUIS ALBERTO PACHECO CONCHA",
      "userId": "16921349855389687986"
     },
     "user_tz": 300
    },
    "id": "N8GVgFY1vPGg",
    "outputId": "5a1d0ed8-4b19-4834-bd27-b1269dd08f98"
   },
   "outputs": [],
   "source": [
    "# pick the closest match from nomatch_gdf for a value in nomatch_df\n",
    "from thefuzz import process\n",
    "[(dis,process.extractOne(dis,nomatch_gdf)) for dis in sorted(nomatch_df)]"
   ]
  },
  {
   "cell_type": "markdown",
   "metadata": {
    "id": "TbvhaF5ivbyJ"
   },
   "source": [
    "If you are comfortable, you prepare a dictionary of changes:"
   ]
  },
  {
   "cell_type": "code",
   "execution_count": null,
   "metadata": {
    "colab": {
     "base_uri": "https://localhost:8080/"
    },
    "executionInfo": {
     "elapsed": 56,
     "status": "ok",
     "timestamp": 1730206196966,
     "user": {
      "displayName": "LUIS ALBERTO PACHECO CONCHA",
      "userId": "16921349855389687986"
     },
     "user_tz": 300
    },
    "id": "ERRRq00dvcWJ",
    "outputId": "2477fce0-0725-47e2-9a9f-f3b34a1a7d89"
   },
   "outputs": [],
   "source": [
    "# is this OK?\n",
    "{dis:process.extractOne(dis,nomatch_gdf)[0] for dis in sorted(nomatch_df)}"
   ]
  },
  {
   "cell_type": "code",
   "execution_count": null,
   "metadata": {
    "id": "TfmDbe9lvddI"
   },
   "outputs": [],
   "source": [
    "# then:\n",
    "changesinDF={dis:process.extractOne(dis,nomatch_gdf)[0] for dis in sorted(nomatch_df)}"
   ]
  },
  {
   "cell_type": "markdown",
   "metadata": {
    "id": "H-g1WpK6vhZM"
   },
   "source": [
    "Now, make the replacements:"
   ]
  },
  {
   "cell_type": "code",
   "execution_count": null,
   "metadata": {
    "id": "mh09ypZyvg7F"
   },
   "outputs": [],
   "source": [
    "covid19_vulnerables_Alarm_w.replace({'location': changesinDF}, inplace=True)"
   ]
  },
  {
   "cell_type": "markdown",
   "metadata": {
    "id": "WEdaUeTtvn3u"
   },
   "source": [
    "Is it over?"
   ]
  },
  {
   "cell_type": "code",
   "execution_count": null,
   "metadata": {
    "colab": {
     "base_uri": "https://localhost:8080/"
    },
    "executionInfo": {
     "elapsed": 44,
     "status": "ok",
     "timestamp": 1730206196967,
     "user": {
      "displayName": "LUIS ALBERTO PACHECO CONCHA",
      "userId": "16921349855389687986"
     },
     "user_tz": 300
    },
    "id": "4XmU_-LUvlwd",
    "outputId": "00a32983-d085-4ee4-d988-5c50b4207a2f"
   },
   "outputs": [],
   "source": [
    "nomatch_df=set(covid19_vulnerables_Alarm_w.location)- set(provmap.location)\n",
    "nomatch_gdf=set(provmap.location)-set(covid19_vulnerables_Alarm_w.location)\n",
    "\n",
    "[(dis,process.extractOne(dis,nomatch_gdf)) for dis in sorted(nomatch_df)]"
   ]
  },
  {
   "cell_type": "markdown",
   "metadata": {
    "id": "D5BlIi9ovvDF"
   },
   "source": [
    "Now the merge can happen:"
   ]
  },
  {
   "cell_type": "code",
   "execution_count": null,
   "metadata": {
    "id": "KJoNszkxvv26"
   },
   "outputs": [],
   "source": [
    "covid19_vulnerables_Alarm_map=provmap.merge(covid19_vulnerables_Alarm_w, on='location',how='left',indicator='flag')"
   ]
  },
  {
   "cell_type": "code",
   "execution_count": null,
   "metadata": {
    "colab": {
     "base_uri": "https://localhost:8080/"
    },
    "executionInfo": {
     "elapsed": 34,
     "status": "ok",
     "timestamp": 1730206196967,
     "user": {
      "displayName": "LUIS ALBERTO PACHECO CONCHA",
      "userId": "16921349855389687986"
     },
     "user_tz": 300
    },
    "id": "UAc-2UQmv7Zq",
    "outputId": "5df855e2-cfbe-466f-df9c-9f2d542a98b7"
   },
   "outputs": [],
   "source": [
    "# check\n",
    "covid19_vulnerables_Alarm_map.info()"
   ]
  },
  {
   "cell_type": "code",
   "execution_count": null,
   "metadata": {
    "id": "SvG06SZYv-8q"
   },
   "outputs": [],
   "source": [
    "# avoid poblems with fillna()\n",
    "covid19_vulnerables_Alarm_map['flag']=covid19_vulnerables_Alarm_map.flag.astype(str)"
   ]
  },
  {
   "cell_type": "markdown",
   "metadata": {
    "id": "ejv0q_OhwDpc"
   },
   "source": [
    "We can get rid of some columns:"
   ]
  },
  {
   "cell_type": "code",
   "execution_count": null,
   "metadata": {
    "colab": {
     "base_uri": "https://localhost:8080/"
    },
    "executionInfo": {
     "elapsed": 31,
     "status": "ok",
     "timestamp": 1730206196968,
     "user": {
      "displayName": "LUIS ALBERTO PACHECO CONCHA",
      "userId": "16921349855389687986"
     },
     "user_tz": 300
    },
    "id": "xzwPGueKwNRB",
    "outputId": "e933d5d8-90a8-4338-a2f0-60aed21ccc55"
   },
   "outputs": [],
   "source": [
    "covid19_vulnerables_Alarm_map.info()"
   ]
  },
  {
   "cell_type": "code",
   "execution_count": null,
   "metadata": {
    "colab": {
     "base_uri": "https://localhost:8080/",
     "height": 293
    },
    "executionInfo": {
     "elapsed": 25,
     "status": "ok",
     "timestamp": 1730206196968,
     "user": {
      "displayName": "LUIS ALBERTO PACHECO CONCHA",
      "userId": "16921349855389687986"
     },
     "user_tz": 300
    },
    "id": "AEvIjtyuwFY0",
    "outputId": "9380c5d7-caed-49d6-81df-aa67d831e6f1"
   },
   "outputs": [],
   "source": [
    "bye=['DEPARTAMENTO', 'CCPP','CCDD']\n",
    "covid19_vulnerables_Alarm_map.drop(columns=bye,inplace=True)\n",
    "\n",
    "# keeping\n",
    "covid19_vulnerables_Alarm_map.head()\n"
   ]
  },
  {
   "cell_type": "code",
   "execution_count": null,
   "metadata": {
    "id": "IJYKnqWmxswy"
   },
   "outputs": [],
   "source": [
    "# filling with zeroes\n",
    "covid19_vulnerables_Alarm_map.fillna(0,inplace=True)"
   ]
  },
  {
   "cell_type": "markdown",
   "metadata": {
    "id": "NqUt-UJ-RW5U"
   },
   "source": [
    "We can save this geoDF:"
   ]
  },
  {
   "cell_type": "code",
   "execution_count": null,
   "metadata": {
    "id": "2orTWmW9RWgU"
   },
   "outputs": [],
   "source": [
    "import os\n",
    "covid19_vulnerables_Alarm_map.to_file(\n",
    "    os.path.join('/content/drive/MyDrive/2024-2/Herramientas cuantitativas', \"provinciasPeru.gpkg\"),\n",
    "    layer='provinciasCovid19',\n",
    "    driver=\"GPKG\"\n",
    ")"
   ]
  },
  {
   "cell_type": "markdown",
   "metadata": {
    "id": "DBfwRA60WPhQ"
   },
   "source": [
    "## Exploring one variable"
   ]
  },
  {
   "cell_type": "markdown",
   "metadata": {
    "id": "fqbhc-l_WSmD"
   },
   "source": [
    "This time, we explore statistically one variable in the map:"
   ]
  },
  {
   "cell_type": "code",
   "execution_count": null,
   "metadata": {
    "colab": {
     "base_uri": "https://localhost:8080/",
     "height": 335
    },
    "executionInfo": {
     "elapsed": 641,
     "status": "ok",
     "timestamp": 1730206615327,
     "user": {
      "displayName": "LUIS ALBERTO PACHECO CONCHA",
      "userId": "16921349855389687986"
     },
     "user_tz": 300
    },
    "id": "DDXVjjzwWMrs",
    "outputId": "4b97511a-ab53-4d3e-fbc3-5112d4a81f3d"
   },
   "outputs": [],
   "source": [
    "# statistics\n",
    "covid19_vulnerables_Alarm_map.year2022.describe()"
   ]
  },
  {
   "cell_type": "markdown",
   "metadata": {
    "id": "sJgFyj0ZWeNd"
   },
   "source": [
    "A visual look:"
   ]
  },
  {
   "cell_type": "code",
   "execution_count": null,
   "metadata": {
    "colab": {
     "base_uri": "https://localhost:8080/",
     "height": 467
    },
    "executionInfo": {
     "elapsed": 3067,
     "status": "ok",
     "timestamp": 1730206640089,
     "user": {
      "displayName": "LUIS ALBERTO PACHECO CONCHA",
      "userId": "16921349855389687986"
     },
     "user_tz": 300
    },
    "id": "bhbGVdfpWe7W",
    "outputId": "b70ee3e6-8c6d-4f36-a8d8-18ff7d115669"
   },
   "outputs": [],
   "source": [
    "import seaborn as sea\n",
    "\n",
    "sea.boxplot(covid19_vulnerables_Alarm_map.year2022, color='yellow',orient='h')"
   ]
  },
  {
   "cell_type": "code",
   "execution_count": null,
   "metadata": {
    "colab": {
     "base_uri": "https://localhost:8080/",
     "height": 448
    },
    "executionInfo": {
     "elapsed": 2244,
     "status": "ok",
     "timestamp": 1730206662457,
     "user": {
      "displayName": "LUIS ALBERTO PACHECO CONCHA",
      "userId": "16921349855389687986"
     },
     "user_tz": 300
    },
    "id": "CLrBY4jBWjog",
    "outputId": "cad5caf2-34c7-4a36-b8bd-b35eb02a1980"
   },
   "outputs": [],
   "source": [
    "from sklearn.preprocessing import QuantileTransformer\n",
    "qt = QuantileTransformer(n_quantiles=100, random_state=0,output_distribution='normal')\n",
    "qt_result=qt.fit_transform(covid19_vulnerables_Alarm_map[['year2022']])\n",
    "sea.boxplot(qt_result, color='yellow',orient='h')"
   ]
  },
  {
   "cell_type": "code",
   "execution_count": null,
   "metadata": {
    "id": "GSu_EExOWox3"
   },
   "outputs": [],
   "source": [
    "covid19_vulnerables_Alarm_map['year_2022_qt']=qt_result"
   ]
  },
  {
   "cell_type": "markdown",
   "metadata": {
    "id": "kLd0fMkpWzcq"
   },
   "source": [
    "## Spatial Correlation\n",
    "\n",
    "### Neighboorhood\n",
    "\n",
    "We can compute the neighborhood in a map using different algorithms:"
   ]
  },
  {
   "cell_type": "code",
   "execution_count": null,
   "metadata": {
    "colab": {
     "base_uri": "https://localhost:8080/"
    },
    "executionInfo": {
     "elapsed": 4856,
     "status": "ok",
     "timestamp": 1730206789943,
     "user": {
      "displayName": "LUIS ALBERTO PACHECO CONCHA",
      "userId": "16921349855389687986"
     },
     "user_tz": 300
    },
    "id": "D0xlTvZ4XFKQ",
    "outputId": "a11523b7-b1d3-4839-9fd5-d7fae49653f9"
   },
   "outputs": [],
   "source": [
    "!pip install libpysal"
   ]
  },
  {
   "cell_type": "code",
   "execution_count": null,
   "metadata": {
    "id": "0ZvhtM0IWt2s"
   },
   "outputs": [],
   "source": [
    "from libpysal.weights import Queen, Rook, KNN\n",
    "\n",
    "# rook\n",
    "\n",
    "w_rook = Rook.from_dataframe(covid19_vulnerables_Alarm_map,use_index=False)"
   ]
  },
  {
   "cell_type": "code",
   "execution_count": null,
   "metadata": {
    "id": "s1iA3iUdXLCX"
   },
   "outputs": [],
   "source": [
    "# rook\n",
    "w_queen = Queen.from_dataframe(covid19_vulnerables_Alarm_map,use_index=False)"
   ]
  },
  {
   "cell_type": "code",
   "execution_count": null,
   "metadata": {
    "id": "L7H9ZlYdW7JB"
   },
   "outputs": [],
   "source": [
    "# k nearest neighbors\n",
    "w_knn = KNN.from_dataframe(covid19_vulnerables_Alarm_map, k=8)"
   ]
  },
  {
   "cell_type": "markdown",
   "metadata": {
    "id": "_pBwM6UcXWtF"
   },
   "source": [
    "Let's understand the differences:"
   ]
  },
  {
   "cell_type": "code",
   "execution_count": null,
   "metadata": {
    "colab": {
     "base_uri": "https://localhost:8080/",
     "height": 115
    },
    "executionInfo": {
     "elapsed": 1173,
     "status": "ok",
     "timestamp": 1730206890844,
     "user": {
      "displayName": "LUIS ALBERTO PACHECO CONCHA",
      "userId": "16921349855389687986"
     },
     "user_tz": 300
    },
    "id": "QgfZxbnJXUXX",
    "outputId": "1a3dcc73-71fa-4af8-925a-127175eedcef"
   },
   "outputs": [],
   "source": [
    "# first one\n",
    "covid19_vulnerables_Alarm_map.head(1)"
   ]
  },
  {
   "cell_type": "code",
   "execution_count": null,
   "metadata": {
    "colab": {
     "base_uri": "https://localhost:8080/"
    },
    "executionInfo": {
     "elapsed": 404,
     "status": "ok",
     "timestamp": 1730206896382,
     "user": {
      "displayName": "LUIS ALBERTO PACHECO CONCHA",
      "userId": "16921349855389687986"
     },
     "user_tz": 300
    },
    "id": "sX4Rd9bDXaSV",
    "outputId": "5956f53c-0ebf-47fb-fbc9-96a07f95ce28"
   },
   "outputs": [],
   "source": [
    "# amount neighbors of that district\n",
    "w_rook.neighbors[0]"
   ]
  },
  {
   "cell_type": "code",
   "execution_count": null,
   "metadata": {
    "colab": {
     "base_uri": "https://localhost:8080/",
     "height": 452
    },
    "executionInfo": {
     "elapsed": 2433,
     "status": "ok",
     "timestamp": 1730206959674,
     "user": {
      "displayName": "LUIS ALBERTO PACHECO CONCHA",
      "userId": "16921349855389687986"
     },
     "user_tz": 300
    },
    "id": "brRvhPGUXkj8",
    "outputId": "f7ab0afc-2e52-41d1-a9e1-b89908e81e6a"
   },
   "outputs": [],
   "source": [
    "# see\n",
    "base=covid19_vulnerables_Alarm_map[covid19_vulnerables_Alarm_map.PROVINCIA_x==\"CHACHAPOYAS\"].plot()\n",
    "covid19_vulnerables_Alarm_map.iloc[w_rook.neighbors[0] ,].plot(ax=base,facecolor=\"yellow\",edgecolor='k')\n",
    "covid19_vulnerables_Alarm_map.head(1).plot(ax=base,facecolor=\"red\")"
   ]
  },
  {
   "cell_type": "markdown",
   "metadata": {
    "id": "q2013izaX0pH"
   },
   "source": [
    "Let's do the same:"
   ]
  },
  {
   "cell_type": "code",
   "execution_count": null,
   "metadata": {
    "id": "cs9F3NJ6XyOq"
   },
   "outputs": [],
   "source": [
    "w_queen.neighbors[0]"
   ]
  },
  {
   "cell_type": "code",
   "execution_count": null,
   "metadata": {
    "colab": {
     "base_uri": "https://localhost:8080/",
     "height": 452
    },
    "executionInfo": {
     "elapsed": 900,
     "status": "ok",
     "timestamp": 1730207012238,
     "user": {
      "displayName": "LUIS ALBERTO PACHECO CONCHA",
      "userId": "16921349855389687986"
     },
     "user_tz": 300
    },
    "id": "emAACM5pX230",
    "outputId": "cc701588-5408-4286-bf0a-61c72300667b"
   },
   "outputs": [],
   "source": [
    "base=covid19_vulnerables_Alarm_map[covid19_vulnerables_Alarm_map.PROVINCIA_x==\"CHACHAPOYAS\"].plot()\n",
    "covid19_vulnerables_Alarm_map.iloc[w_queen.neighbors[0] ,].plot(ax=base,facecolor=\"yellow\",edgecolor='k')\n",
    "covid19_vulnerables_Alarm_map.head(1).plot(ax=base,facecolor=\"red\")"
   ]
  },
  {
   "cell_type": "code",
   "execution_count": null,
   "metadata": {
    "colab": {
     "base_uri": "https://localhost:8080/"
    },
    "executionInfo": {
     "elapsed": 370,
     "status": "ok",
     "timestamp": 1730207021556,
     "user": {
      "displayName": "LUIS ALBERTO PACHECO CONCHA",
      "userId": "16921349855389687986"
     },
     "user_tz": 300
    },
    "id": "rOMTEFv3X9c9",
    "outputId": "5b60f742-5fad-4875-9909-e2af0d1881fa"
   },
   "outputs": [],
   "source": [
    "w_knn.neighbors[0]"
   ]
  },
  {
   "cell_type": "code",
   "execution_count": null,
   "metadata": {
    "colab": {
     "base_uri": "https://localhost:8080/",
     "height": 448
    },
    "executionInfo": {
     "elapsed": 520,
     "status": "ok",
     "timestamp": 1730207047413,
     "user": {
      "displayName": "LUIS ALBERTO PACHECO CONCHA",
      "userId": "16921349855389687986"
     },
     "user_tz": 300
    },
    "id": "gbzbUaONX_uG",
    "outputId": "d6b814ae-177f-4875-b1c4-96553c32db12"
   },
   "outputs": [],
   "source": [
    "base=covid19_vulnerables_Alarm_map[covid19_vulnerables_Alarm_map.PROVINCIA_x==\"CHACHAPOYAS\"].plot()\n",
    "covid19_vulnerables_Alarm_map.iloc[w_knn.neighbors[0] ,].plot(ax=base,facecolor=\"yellow\",edgecolor='k')\n",
    "covid19_vulnerables_Alarm_map.head(1).plot(ax=base,facecolor=\"red\")"
   ]
  },
  {
   "cell_type": "markdown",
   "metadata": {
    "id": "BbY_KfIZYJkX"
   },
   "source": [
    "Let me pay attention to the queen results:"
   ]
  },
  {
   "cell_type": "code",
   "execution_count": null,
   "metadata": {
    "colab": {
     "base_uri": "https://localhost:8080/"
    },
    "executionInfo": {
     "elapsed": 691,
     "status": "ok",
     "timestamp": 1730207091927,
     "user": {
      "displayName": "LUIS ALBERTO PACHECO CONCHA",
      "userId": "16921349855389687986"
     },
     "user_tz": 300
    },
    "id": "oR7et-AUYG8O",
    "outputId": "fe86077a-dcb1-45b0-b5a2-8db6e25e9adc"
   },
   "outputs": [],
   "source": [
    "# all the neighbors by row\n",
    "w_queen.neighbors"
   ]
  },
  {
   "cell_type": "code",
   "execution_count": null,
   "metadata": {
    "colab": {
     "base_uri": "https://localhost:8080/",
     "height": 423
    },
    "executionInfo": {
     "elapsed": 9,
     "status": "ok",
     "timestamp": 1730207092454,
     "user": {
      "displayName": "LUIS ALBERTO PACHECO CONCHA",
      "userId": "16921349855389687986"
     },
     "user_tz": 300
    },
    "id": "INGSRmTbYMef",
    "outputId": "9125e430-10ae-46da-b05f-97fa4162eba0"
   },
   "outputs": [],
   "source": [
    "# the matrix of neighboorhood:\n",
    "\n",
    "pd.DataFrame(*w_queen.full()).astype(int) # 1 means both are neighbors"
   ]
  },
  {
   "cell_type": "code",
   "execution_count": null,
   "metadata": {
    "colab": {
     "base_uri": "https://localhost:8080/"
    },
    "executionInfo": {
     "elapsed": 375,
     "status": "ok",
     "timestamp": 1730207096373,
     "user": {
      "displayName": "LUIS ALBERTO PACHECO CONCHA",
      "userId": "16921349855389687986"
     },
     "user_tz": 300
    },
    "id": "yeFek69eYOsZ",
    "outputId": "e5a7d708-1857-422b-bf04-86c73806a41f"
   },
   "outputs": [],
   "source": [
    "# pct of neighboorhood (density)\n",
    "w_queen.pct_nonzero"
   ]
  },
  {
   "cell_type": "code",
   "execution_count": null,
   "metadata": {
    "colab": {
     "base_uri": "https://localhost:8080/"
    },
    "executionInfo": {
     "elapsed": 426,
     "status": "ok",
     "timestamp": 1730207098759,
     "user": {
      "displayName": "LUIS ALBERTO PACHECO CONCHA",
      "userId": "16921349855389687986"
     },
     "user_tz": 300
    },
    "id": "4O7ldvprYP5N",
    "outputId": "837190d6-a862-4dc3-9b73-51f51afb11c8"
   },
   "outputs": [],
   "source": [
    "# a province with NO neighbor?\n",
    "w_queen.islands"
   ]
  },
  {
   "cell_type": "markdown",
   "metadata": {
    "id": "Z4Vy9sHQYUlW"
   },
   "source": [
    "## Moran's correlation\n",
    "\n",
    "We need the neighboorhood matrix (the weight matrix) to compute spatial correlation: if the variable value is correlated with the values of its neighbors - which proves a spatial effect."
   ]
  },
  {
   "cell_type": "code",
   "execution_count": null,
   "metadata": {
    "id": "w_TmHNWtYTF3"
   },
   "outputs": [],
   "source": [
    "# needed for spatial correlation\n",
    "w_queen.transform = 'R'"
   ]
  },
  {
   "cell_type": "code",
   "execution_count": null,
   "metadata": {
    "colab": {
     "base_uri": "https://localhost:8080/",
     "height": 458
    },
    "executionInfo": {
     "elapsed": 410,
     "status": "ok",
     "timestamp": 1730207132340,
     "user": {
      "displayName": "LUIS ALBERTO PACHECO CONCHA",
      "userId": "16921349855389687986"
     },
     "user_tz": 300
    },
    "id": "16AsFiU-YZyR",
    "outputId": "6475c9a4-1961-4cef-b735-2458b86f21e2"
   },
   "outputs": [],
   "source": [
    "pd.DataFrame(*w_queen.full()).sum(axis=1) # 1 means both are neighbors"
   ]
  },
  {
   "cell_type": "markdown",
   "metadata": {
    "id": "6MTYjo1SYc0a"
   },
   "source": [
    "Spatial correlation is measured by the Moran's I statistic:"
   ]
  },
  {
   "cell_type": "code",
   "execution_count": null,
   "metadata": {
    "colab": {
     "base_uri": "https://localhost:8080/"
    },
    "executionInfo": {
     "elapsed": 5134,
     "status": "ok",
     "timestamp": 1730207223923,
     "user": {
      "displayName": "LUIS ALBERTO PACHECO CONCHA",
      "userId": "16921349855389687986"
     },
     "user_tz": 300
    },
    "id": "Hd3cGhACYvH4",
    "outputId": "5dc1f3e2-4851-45b5-d29c-476d5f40dd53"
   },
   "outputs": [],
   "source": [
    "!pip install esda\n"
   ]
  },
  {
   "cell_type": "markdown",
   "metadata": {
    "id": "72e5n0OkY1d7"
   },
   "source": [
    "Spatial correlation is measured by the Moran's I statistic:"
   ]
  },
  {
   "cell_type": "code",
   "execution_count": null,
   "metadata": {
    "colab": {
     "base_uri": "https://localhost:8080/"
    },
    "executionInfo": {
     "elapsed": 1254,
     "status": "ok",
     "timestamp": 1730207229526,
     "user": {
      "displayName": "LUIS ALBERTO PACHECO CONCHA",
      "userId": "16921349855389687986"
     },
     "user_tz": 300
    },
    "id": "I0IjqcUaYedz",
    "outputId": "8b3c7655-d129-4e82-bdc1-804ed99314be"
   },
   "outputs": [],
   "source": [
    "from esda.moran import Moran\n",
    "\n",
    "morancovid19 = Moran(covid19_vulnerables_Alarm_map['year_2022_qt'], w_queen)\n",
    "morancovid19.I,morancovid19.p_sim"
   ]
  },
  {
   "cell_type": "markdown",
   "metadata": {
    "id": "Ubk4_xbEY7e1"
   },
   "source": [
    "The Moran's I is significant. Let's see:"
   ]
  },
  {
   "cell_type": "code",
   "execution_count": null,
   "metadata": {
    "colab": {
     "base_uri": "https://localhost:8080/"
    },
    "executionInfo": {
     "elapsed": 10360,
     "status": "ok",
     "timestamp": 1730207350032,
     "user": {
      "displayName": "LUIS ALBERTO PACHECO CONCHA",
      "userId": "16921349855389687986"
     },
     "user_tz": 300
    },
    "id": "EnBHQel_ZMxU",
    "outputId": "884f4377-75e3-47ad-b1c5-85a1150ca000"
   },
   "outputs": [],
   "source": [
    "!pip install splot"
   ]
  },
  {
   "cell_type": "code",
   "execution_count": null,
   "metadata": {
    "colab": {
     "base_uri": "https://localhost:8080/",
     "height": 295
    },
    "executionInfo": {
     "elapsed": 11526,
     "status": "ok",
     "timestamp": 1730207363948,
     "user": {
      "displayName": "LUIS ALBERTO PACHECO CONCHA",
      "userId": "16921349855389687986"
     },
     "user_tz": 300
    },
    "id": "nDBabJcOYy06",
    "outputId": "8cbf65f9-23dd-4a6e-db8b-95f902ffb370"
   },
   "outputs": [],
   "source": [
    "from splot.esda import moran_scatterplot\n",
    "import matplotlib.pyplot as plt\n",
    "\n",
    "fig, ax = moran_scatterplot(morancovid19)\n",
    "ax.set_xlabel('Covid19_alarma_share')\n",
    "ax.set_ylabel('SpatialLag_Covid19_alarma_share')"
   ]
  },
  {
   "cell_type": "markdown",
   "metadata": {
    "id": "6XbslyAJZZAB"
   },
   "source": [
    "### Local Spatial Correlation\n",
    "\n",
    "We can compute a LISA (local Moran) for each case. That will help us find spatial clusters (spots) and spatial outliers:\n",
    "\n",
    "* A **hotSpot** is a polygon whose value in the variable is high AND is surrounded with polygons with also high values.\n",
    "\n",
    "* A **coldSpot** is a polygon whose value in the variable is low AND is surrounded with polygons with also low values.\n",
    "\n",
    "* A **coldOutlier** is a polygon whose value in the variable is low BUT is surrounded with polygons with  high values.\n",
    "\n",
    "* A **hotOutlier** is a polygon whose value in the variable is high BUT is surrounded with polygons with  low values.\n",
    "\n",
    "It is also possible that no significant correlation is detected. Let's see those values:"
   ]
  },
  {
   "cell_type": "code",
   "execution_count": null,
   "metadata": {
    "colab": {
     "base_uri": "https://localhost:8080/",
     "height": 257
    },
    "executionInfo": {
     "elapsed": 10355,
     "status": "ok",
     "timestamp": 1730207517311,
     "user": {
      "displayName": "LUIS ALBERTO PACHECO CONCHA",
      "userId": "16921349855389687986"
     },
     "user_tz": 300
    },
    "id": "6ZXBImb9ZRlW",
    "outputId": "884b04b2-1e89-4b15-ef7b-3bbc069168be"
   },
   "outputs": [],
   "source": [
    "# The scatterplot with local info\n",
    "\n",
    "from esda.moran import Moran_Local\n",
    "\n",
    "# calculate Moran_Local and plot\n",
    "lisacovid19 = Moran_Local(y=covid19_vulnerables_Alarm_map['year_2022_qt'], w=w_knn,seed=2022)\n",
    "fig, ax = moran_scatterplot(lisacovid19,p=0.05)\n",
    "ax.set_xlabel('Covid19_alarma_share')\n",
    "ax.set_ylabel('SpatialLag_Covid19_alarma_share');"
   ]
  },
  {
   "cell_type": "code",
   "execution_count": null,
   "metadata": {
    "colab": {
     "base_uri": "https://localhost:8080/",
     "height": 426
    },
    "executionInfo": {
     "elapsed": 7193,
     "status": "ok",
     "timestamp": 1730207543495,
     "user": {
      "displayName": "LUIS ALBERTO PACHECO CONCHA",
      "userId": "16921349855389687986"
     },
     "user_tz": 300
    },
    "id": "9126d85d",
    "outputId": "d9c3bbd2-86b5-40fb-d723-314274f2b6f5"
   },
   "outputs": [],
   "source": [
    "from splot.esda import plot_local_autocorrelation\n",
    "plot_local_autocorrelation(lisacovid19, covid19_vulnerables_Alarm_map,'year_2022_qt')\n",
    "plt.show()"
   ]
  },
  {
   "cell_type": "markdown",
   "metadata": {
    "id": "3c8d157e"
   },
   "source": [
    "Let me add that data to my gdf:"
   ]
  },
  {
   "cell_type": "code",
   "execution_count": null,
   "metadata": {
    "colab": {
     "base_uri": "https://localhost:8080/"
    },
    "executionInfo": {
     "elapsed": 406,
     "status": "ok",
     "timestamp": 1730207556843,
     "user": {
      "displayName": "LUIS ALBERTO PACHECO CONCHA",
      "userId": "16921349855389687986"
     },
     "user_tz": 300
    },
    "id": "b67766a8",
    "outputId": "691db1d5-a1f8-44b4-e7dd-c2cdf0324b7a"
   },
   "outputs": [],
   "source": [
    "# quadrant\n",
    "lisacovid19.q"
   ]
  },
  {
   "cell_type": "code",
   "execution_count": null,
   "metadata": {
    "colab": {
     "base_uri": "https://localhost:8080/"
    },
    "executionInfo": {
     "elapsed": 463,
     "status": "ok",
     "timestamp": 1730207561964,
     "user": {
      "displayName": "LUIS ALBERTO PACHECO CONCHA",
      "userId": "16921349855389687986"
     },
     "user_tz": 300
    },
    "id": "df8949df",
    "outputId": "deea8ff9-b412-4188-a55d-1e94851d1da2"
   },
   "outputs": [],
   "source": [
    "# significance\n",
    "lisacovid19.p_sim"
   ]
  },
  {
   "cell_type": "code",
   "execution_count": null,
   "metadata": {
    "colab": {
     "base_uri": "https://localhost:8080/",
     "height": 209
    },
    "executionInfo": {
     "elapsed": 405,
     "status": "ok",
     "timestamp": 1730207565857,
     "user": {
      "displayName": "LUIS ALBERTO PACHECO CONCHA",
      "userId": "16921349855389687986"
     },
     "user_tz": 300
    },
    "id": "8a07011f",
    "outputId": "e947419b-ccbf-460d-ec0b-b3a8dde0c290"
   },
   "outputs": [],
   "source": [
    "# quadrant: 1 HH,  2 LH,  3 LL,  4 HL\n",
    "pd.Series(lisacovid19.q).value_counts()"
   ]
  },
  {
   "cell_type": "markdown",
   "metadata": {
    "id": "79c4c66f"
   },
   "source": [
    "The info in **lisacovid19.q** can not be used right away, we need to add if the local spatial correlation is significant:"
   ]
  },
  {
   "cell_type": "code",
   "execution_count": null,
   "metadata": {
    "colab": {
     "base_uri": "https://localhost:8080/",
     "height": 272
    },
    "executionInfo": {
     "elapsed": 420,
     "status": "ok",
     "timestamp": 1730207629685,
     "user": {
      "displayName": "LUIS ALBERTO PACHECO CONCHA",
      "userId": "16921349855389687986"
     },
     "user_tz": 300
    },
    "id": "2e2977e6",
    "outputId": "ff645b2e-148d-447c-927d-90514eed5ef7"
   },
   "outputs": [],
   "source": [
    "covid19_vulnerables_Alarm_map['Covid19_quadrant']=[l if p <0.05 else 0 for l,p in zip(lisacovid19.q,lisacovid19.p_sim)  ]\n",
    "covid19_vulnerables_Alarm_map['Covid19_quadrant'].value_counts()"
   ]
  },
  {
   "cell_type": "markdown",
   "metadata": {
    "id": "f327eb6f"
   },
   "source": [
    "Now, we recode:"
   ]
  },
  {
   "cell_type": "code",
   "execution_count": null,
   "metadata": {
    "colab": {
     "base_uri": "https://localhost:8080/",
     "height": 272
    },
    "executionInfo": {
     "elapsed": 431,
     "status": "ok",
     "timestamp": 1730207672055,
     "user": {
      "displayName": "LUIS ALBERTO PACHECO CONCHA",
      "userId": "16921349855389687986"
     },
     "user_tz": 300
    },
    "id": "4fd49705",
    "outputId": "38d94217-cb57-4ad1-b921-2c39f1e338a6"
   },
   "outputs": [],
   "source": [
    "labels = [ '0 no_sig', '1 hotSpot', '2 coldOutlier', '3 coldSpot', '4 hotOutlier']\n",
    "\n",
    "covid19_vulnerables_Alarm_map['Covid19_quadrant_names']=[labels[i] for i in covid19_vulnerables_Alarm_map['Covid19_quadrant']]\n",
    "\n",
    "covid19_vulnerables_Alarm_map['Covid19_quadrant_names'].value_counts()\n"
   ]
  },
  {
   "cell_type": "markdown",
   "metadata": {
    "id": "0b662813"
   },
   "source": [
    "Let's replot:"
   ]
  },
  {
   "cell_type": "code",
   "execution_count": null,
   "metadata": {
    "colab": {
     "base_uri": "https://localhost:8080/",
     "height": 983
    },
    "executionInfo": {
     "elapsed": 2002,
     "status": "ok",
     "timestamp": 1730207731073,
     "user": {
      "displayName": "LUIS ALBERTO PACHECO CONCHA",
      "userId": "16921349855389687986"
     },
     "user_tz": 300
    },
    "id": "30bad5df",
    "outputId": "4da3827d-5030-421c-d88e-4e6ff7d6c5b5"
   },
   "outputs": [],
   "source": [
    "from matplotlib import colors\n",
    "myColMap = colors.ListedColormap([ 'ghostwhite', 'red', 'green', 'black','orange'])\n",
    "\n",
    "\n",
    "\n",
    "\n",
    "f, ax = plt.subplots(1, figsize=(12,12))\n",
    "\n",
    "\n",
    "plt.title('Spots and Outliers')\n",
    "\n",
    "covid19_vulnerables_Alarm_map.plot(column='Covid19_quadrant_names',\n",
    "                categorical=True,\n",
    "                cmap=myColMap,\n",
    "                linewidth=0.1,\n",
    "                edgecolor='white',\n",
    "                legend=True,\n",
    "                legend_kwds={'loc': 'center left',\n",
    "                             'bbox_to_anchor': (0.7, 0.6)},\n",
    "                ax=ax)\n",
    "# Remove axis\n",
    "ax.set_axis_off()\n",
    "# Display the map\n",
    "plt.show()"
   ]
  },
  {
   "cell_type": "code",
   "execution_count": null,
   "metadata": {
    "colab": {
     "background_save": true
    },
    "id": "891df8b1-4902-42d4-b859-1bcb4d2f259f"
   },
   "outputs": [],
   "source": [
    "covid19_vulnerables_Alarm_map.explore(\"Covid19_quadrant_names\", categorical=True,tooltip='location',cmap=myColMap)"
   ]
  },
  {
   "cell_type": "code",
   "execution_count": null,
   "metadata": {
    "colab": {
     "base_uri": "https://localhost:8080/",
     "height": 830,
     "output_embedded_package_id": "18e79QYRsh9ECk9_EUSwYlYwDsDENILAt"
    },
    "executionInfo": {
     "elapsed": 5141,
     "status": "ok",
     "timestamp": 1730207952740,
     "user": {
      "displayName": "LUIS ALBERTO PACHECO CONCHA",
      "userId": "16921349855389687986"
     },
     "user_tz": 300
    },
    "id": "f36dcf59-b630-4506-8186-eb4959722458",
    "outputId": "19047aea-41d5-4fcc-85a3-e5aea30ef4e0"
   },
   "outputs": [],
   "source": [
    "import folium\n",
    "\n",
    "map1=covid19_vulnerables_Alarm_map[covid19_vulnerables_Alarm_map.Covid19_quadrant_names=='1 hotSpot']\n",
    "map2=covid19_vulnerables_Alarm_map[covid19_vulnerables_Alarm_map.Covid19_quadrant_names=='2 coldOutlier']\n",
    "map3=covid19_vulnerables_Alarm_map[covid19_vulnerables_Alarm_map.Covid19_quadrant_names=='3 coldSpot']\n",
    "map4=covid19_vulnerables_Alarm_map[covid19_vulnerables_Alarm_map.Covid19_quadrant_names=='4 hotOutlier']\n",
    "\n",
    "m = map1.explore(\n",
    "    color=\"red\",\n",
    "    tooltip=False,  # hide tooltip\n",
    "    popup=[\"location\"],  # (on-click)\n",
    "    name=\"hotSpot\"  # name of the layer in the map\n",
    ")\n",
    "\n",
    "map2.explore(\n",
    "    m=m, # notice\n",
    "    color=\"green\",\n",
    "    tooltip=False,\n",
    "    popup=[\"location\"],\n",
    "    name=\"coldOutlier\"\n",
    ")\n",
    "\n",
    "map3.explore(\n",
    "    m=m,\n",
    "    color=\"black\",\n",
    "    tooltip=False,\n",
    "    popup=[\"location\"],\n",
    "    name=\"coldSpot\",\n",
    ")\n",
    "\n",
    "map4.explore(\n",
    "    m=m,\n",
    "    color=\"orange\",\n",
    "    tooltip=False,\n",
    "    popup=[\"location\"],\n",
    "    name=\"hotOutlier\",\n",
    ")\n",
    "\n",
    "folium.TileLayer(\"CartoDB positron\", show=False).add_to(m)  # use folium to add alternative tiles\n",
    "folium.LayerControl(collapsed=True).add_to(m)  # use folium to add layer control\n",
    "\n",
    "m  # show map"
   ]
  },
  {
   "cell_type": "markdown",
   "metadata": {
    "id": "14195e15"
   },
   "source": [
    "## Bivariate LISA"
   ]
  },
  {
   "cell_type": "code",
   "execution_count": null,
   "metadata": {
    "colab": {
     "base_uri": "https://localhost:8080/"
    },
    "executionInfo": {
     "elapsed": 401,
     "status": "ok",
     "timestamp": 1730208071745,
     "user": {
      "displayName": "LUIS ALBERTO PACHECO CONCHA",
      "userId": "16921349855389687986"
     },
     "user_tz": 300
    },
    "id": "67a6ce18",
    "outputId": "dcd5b16d-0e84-465a-f7f7-58d34ec50c04"
   },
   "outputs": [],
   "source": [
    "#from esda.moran import Moran_BV, Moran_Local_BV\n",
    "from esda.moran import Moran_BV\n",
    "\n",
    "mbi = Moran_BV(covid19_vulnerables_Alarm_map['year2021'],  covid19_vulnerables_Alarm_map['year2022'],  w_queen)\n",
    "mbi.I,mbi.p_sim"
   ]
  },
  {
   "cell_type": "code",
   "execution_count": null,
   "metadata": {
    "colab": {
     "base_uri": "https://localhost:8080/",
     "height": 321
    },
    "executionInfo": {
     "elapsed": 3490,
     "status": "ok",
     "timestamp": 1730208115454,
     "user": {
      "displayName": "LUIS ALBERTO PACHECO CONCHA",
      "userId": "16921349855389687986"
     },
     "user_tz": 300
    },
    "id": "3e5e3551",
    "outputId": "93d2cbb1-173b-4069-c483-5eff8f9e8c86"
   },
   "outputs": [],
   "source": [
    "# The scatterplot with local info\n",
    "from esda.moran import Moran_Local_BV\n",
    "\n",
    "# calculate Moran_Local and plot\n",
    "lisacovid19_bv = Moran_Local_BV(y=covid19_vulnerables_Alarm_map['year2021'],\n",
    "                               x=covid19_vulnerables_Alarm_map['year2022'],\n",
    "                               w=w_queen)\n",
    "\n",
    "fig, ax = moran_scatterplot(lisacovid19_bv, p=0.05,aspect_equal=True)\n",
    "\n",
    "ax.set_xlabel('Covid19_2022')\n",
    "ax.set_ylabel('SpatialLag_Covid19_2021')\n",
    "plt.show()"
   ]
  },
  {
   "cell_type": "code",
   "execution_count": null,
   "metadata": {
    "id": "d7e74e82"
   },
   "outputs": [],
   "source": [
    "covid19_vulnerables_Alarm_map['Covid19_quadrant_21_22']=[l if p <0.05 else 0 for l,p in zip(lisacovid19_bv.q,lisacovid19_bv.p_sim)  ]\n",
    "\n",
    "labels = [ '0 no_sig', '1 hotSpot', '2 coldOutlier', '3 coldSpot', '4 hotOutlier']\n",
    "\n",
    "covid19_vulnerables_Alarm_map['Covid19_quadrant_21_22_names']=[labels[i] for i in covid19_vulnerables_Alarm_map['Covid19_quadrant_21_22']]\n"
   ]
  },
  {
   "cell_type": "code",
   "execution_count": null,
   "metadata": {
    "colab": {
     "base_uri": "https://localhost:8080/",
     "height": 1000
    },
    "executionInfo": {
     "elapsed": 1659,
     "status": "ok",
     "timestamp": 1730208232243,
     "user": {
      "displayName": "LUIS ALBERTO PACHECO CONCHA",
      "userId": "16921349855389687986"
     },
     "user_tz": 300
    },
    "id": "042743f0",
    "outputId": "fa0576e2-101d-484a-ac7a-ed5ec2d0098f"
   },
   "outputs": [],
   "source": [
    "# see new columns\n",
    "covid19_vulnerables_Alarm_map"
   ]
  },
  {
   "cell_type": "code",
   "execution_count": null,
   "metadata": {
    "colab": {
     "base_uri": "https://localhost:8080/",
     "height": 983
    },
    "executionInfo": {
     "elapsed": 2055,
     "status": "ok",
     "timestamp": 1730208286684,
     "user": {
      "displayName": "LUIS ALBERTO PACHECO CONCHA",
      "userId": "16921349855389687986"
     },
     "user_tz": 300
    },
    "id": "c0f5e3f9",
    "outputId": "013caa2c-8274-4200-f2d4-d960160a1ad6"
   },
   "outputs": [],
   "source": [
    "from matplotlib import colors\n",
    "myColMap = colors.ListedColormap([ 'ghostwhite', 'red', 'green', 'black','orange'])\n",
    "\n",
    "\n",
    "\n",
    "\n",
    "f, ax = plt.subplots(1, figsize=(12,12))\n",
    "\n",
    "\n",
    "plt.title('Spots and Outliers')\n",
    "\n",
    "covid19_vulnerables_Alarm_map.plot(column='Covid19_quadrant_21_22_names',\n",
    "                categorical=True,\n",
    "                cmap=myColMap,\n",
    "                linewidth=0.1,\n",
    "                edgecolor='white',\n",
    "                legend=True,\n",
    "                legend_kwds={'loc': 'center left',\n",
    "                             'bbox_to_anchor': (0.7, 0.6)},\n",
    "                ax=ax)\n",
    "# Remove axis\n",
    "ax.set_axis_off()\n",
    "# Display the map\n",
    "plt.show()"
   ]
  },
  {
   "cell_type": "code",
   "execution_count": null,
   "metadata": {
    "colab": {
     "base_uri": "https://localhost:8080/",
     "height": 983
    },
    "executionInfo": {
     "elapsed": 3235,
     "status": "ok",
     "timestamp": 1730208333943,
     "user": {
      "displayName": "LUIS ALBERTO PACHECO CONCHA",
      "userId": "16921349855389687986"
     },
     "user_tz": 300
    },
    "id": "44d1fb80",
    "outputId": "cd4081df-4e6f-4cdd-9228-3a8715e69396"
   },
   "outputs": [],
   "source": [
    "# the map with the spots and outliers\n",
    "\n",
    "from splot.esda import lisa_cluster\n",
    "f, ax = plt.subplots(1, figsize=(12, 12))\n",
    "plt.title('Spots and Outliers')\n",
    "fig = lisa_cluster(lisacovid19,\n",
    "                   covid19_vulnerables_Alarm_map,ax=ax,\n",
    "                   legend_kwds={'loc': 'center left',\n",
    "                                'bbox_to_anchor': (0.7, 0.6)})"
   ]
  },
  {
   "cell_type": "markdown",
   "metadata": {
    "id": "6xHnAnpledHH"
   },
   "source": [
    "# Use github para almacenar, publicar y presentar su trabajo\n",
    "\n",
    "Enlace al repositorio de la tarea 3: https://github.com/luispachecoc/covid_19\n",
    "\n",
    "Enlace a GitHub Pages: https://luispachecoc.github.io/covid_19/"
   ]
  },
  {
   "cell_type": "code",
   "execution_count": null,
   "metadata": {
    "colab": {
     "base_uri": "https://localhost:8080/"
    },
    "executionInfo": {
     "elapsed": 4697,
     "status": "ok",
     "timestamp": 1730213925647,
     "user": {
      "displayName": "LUIS ALBERTO PACHECO CONCHA",
      "userId": "16921349855389687986"
     },
     "user_tz": 300
    },
    "id": "Taqu6DtCtjNo",
    "outputId": "b6033a2d-6a8b-4c05-be01-a35dfc4c508d"
   },
   "outputs": [],
   "source": [
    "!jupyter nbconvert --to html \"/content/drive/MyDrive/2024-2/Herramientas_cuantitativas/Index.ipynb\""
   ]
  }
 ],
 "metadata": {
  "colab": {
   "authorship_tag": "ABX9TyOH9W4Tu1AZeZljpzTHtQQO",
   "mount_file_id": "1L8FqbJqPXPo14e7Am0V3vTgtTESk_Jw5",
   "provenance": []
  },
  "kernelspec": {
   "display_name": "Python 3 (ipykernel)",
   "language": "python",
   "name": "python3"
  },
  "language_info": {
   "codemirror_mode": {
    "name": "ipython",
    "version": 3
   },
   "file_extension": ".py",
   "mimetype": "text/x-python",
   "name": "python",
   "nbconvert_exporter": "python",
   "pygments_lexer": "ipython3",
   "version": "3.12.4"
  }
 },
 "nbformat": 4,
 "nbformat_minor": 4
}
